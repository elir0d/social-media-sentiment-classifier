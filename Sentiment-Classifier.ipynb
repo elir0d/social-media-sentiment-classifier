{
 "cells": [
  {
   "cell_type": "markdown",
   "metadata": {},
   "source": [
    "<p align=\"center\">\n",
    "    <img align=\"left\" width=\"650\" height=\"150\" src=\"assets/MbaLogo2.png\">\n",
    "    <img align=\"right\" width=\"150\" height=\"150\" src=\"assets/MbaLogo.png\">\n",
    "</p>"
   ]
  },
  {
   "cell_type": "markdown",
   "metadata": {},
   "source": [
    "<p style=\"text-align: right;\"> Version: 1.0 - \n",
    "17.01.2024 - \n",
    "Elison Rodrigo M. Trindade\n",
    "</p>"
   ]
  },
  {
   "cell_type": "markdown",
   "metadata": {},
   "source": [
    "---"
   ]
  },
  {
   "cell_type": "markdown",
   "metadata": {},
   "source": [
    "<div style=\"text-align:center\">\n",
    "    <span style=\"color:#0d3db2; font-family:Georgia; font-size:2em;\">\n",
    "        Applying CRISP-DM Framework to a Classification Problem\n",
    "    </span>\n",
    "</div>\n",
    "    <br/>\n",
    "<div style=\"text-align:center\">\n",
    "    <span style=\"color:#0d3db2; font-family:Georgia; font-size:1.5em;\">  \n",
    "        Sentiment classification on social media: applying machine learning for decision-making support\n",
    "    </span>\n",
    "</div>\n",
    "<p align=\"center\">\n",
    "    <img align=\"center\" width=\"500\" height=\"500\" src=\"assets/CRISP-DM_Process_Diagram.png\">\n",
    "</p>"
   ]
  },
  {
   "cell_type": "markdown",
   "metadata": {},
   "source": [
    "CRISP-DM stands for cross-industry process for data mining. It provides a structured approach to planning a data mining project. It is a robust and well-proven methodology. This model is an idealized sequence of events. In practice many of the tasks can be performed in a different order and it will often be necessary to backtrack to previous tasks and repeat certain actions."
   ]
  },
  {
   "cell_type": "markdown",
   "metadata": {},
   "source": [
    "[*Source: CRISP-DM*](https://en.wikipedia.org/wiki/Cross-industry_standard_process_for_data_mining)\n",
    "\n",
    "The CRISP-DM methodology folow 6 steps.\n",
    "\n",
    "The CRoss Industry Standard Process for Data Mining (CRISP-DM) is a process model that serves as the base for a data science process. It has six sequential phases:\n",
    "\n",
    "* Business understanding – What does the business need?\n",
    "* Data understanding – What data do we have / need? Is it clean?\n",
    "* Data preparation – How do we organize the data for modeling?\n",
    "* Modeling – What modeling techniques should we apply?\n",
    "* Evaluation – Which model best meets the business objectives?\n",
    "* Deployment – How do stakeholders access the results?\n",
    "\n",
    "Published in 1999 to standardize data mining processes across industries, it has since become the most common methodology for data mining, analytics, and data science projects.\n",
    "\n",
    "Data science teams that combine a loose implementation of CRISP-DM with overarching team-based agile project management approaches will likely see the best results.\n"
   ]
  },
  {
   "cell_type": "markdown",
   "metadata": {},
   "source": [
    "\n",
    "\n",
    "***\n",
    "\n",
    "# Table of content <a class=\"anchor\" id=\"Index\"></a>\n",
    "\n",
    "**The structure of the document folows the methodology**\n",
    "\n",
    "1. [Business understanding](#Businessunderstanding)\n",
    "    1. [Assess the Current Situation](#Assessthecurrentsituation)\n",
    "        1. [Inventory of resources](#Inventory)\n",
    "        2. [Requirements, assumptions and constraints](#Requirements)\n",
    "        3. [Risks and contingencies](#Risks)\n",
    "        4. [Terminology](#Terminology)\n",
    "        5. [Costs and benefits](#CostBenefit)\n",
    "    2. [What are the Desired Outputs](#Desiredoutputs)\n",
    "    3. [What Questions Are We Trying to Answer?](#QA)\n",
    "2. [Data Understanding](#Dataunderstanding)\n",
    "    1. [Initial Data Report](#Datareport)\n",
    "    2. [Describe Data](#Describedata)\n",
    "    3. [Verify Data Quality](#Verifydataquality)\n",
    "        1. [Missing Data](#MissingData) \n",
    "        2. [Outliers](#Outliers) \n",
    "        3. [Data Quality Report](#DataQualityReport)\n",
    "    4. [Initial Data Exploration](#Exploredata)\n",
    "        1. [Distributions](#Distributions)   \n",
    "        2. [Correlations](#Correlations) \n",
    "        2. [Time-Series Analysis per Store Type](#TimeSeriesAnalysis)\n",
    "    5. [Data Exploration Report](#IDataExplorationReport)        \n",
    "3. [Data Preparation](#Datapreperation2)\n",
    "    1. [Select Your Data](#Selectyourdata)\n",
    "    2. [Cleanse the Data](#Cleansethedata)\n",
    "        1. [Label Encoding](#labelEncoding)\n",
    "        2. [Drop Unnecessary Columns](#DropCols)\n",
    "        3. [Altering Datatypes](#AlteringDatatypes)\n",
    "        4. [Dealing With Zeros](#DealingZeros)\n",
    "    3. [Integrate Data](#Integratedata)\n",
    "4. [Exploratory Data Analysis](#EDA)\n",
    "5. [Modelling](#Modelling)\n",
    "    1. [Modelling Technique](#ModellingTechnique)\n",
    "    2. [Modelling Assumptions](#ModellingAssumptions)\n",
    "    3. [Build Model](#BuildModel)\n",
    "    4. [Assess Model](#AssessModel)\n",
    "6. [Evaluation](#Evaluation)\n",
    "7. [Deployment](#Deployment)\n",
    "8. [Monitoring](#Monitoring)"
   ]
  },
  {
   "cell_type": "markdown",
   "metadata": {},
   "source": [
    "***"
   ]
  },
  {
   "cell_type": "markdown",
   "metadata": {},
   "source": [
    "# 1 - Determine Business Objectives and Assess the Situation  <a class=\"anchor\" id=\"Businessunderstanding\"></a>\n",
    "The first stage of the CRISP-DM process is to understand what you want to accomplish from a business perspective. Your organisation may have competing objectives and constraints that must be properly balanced. The goal of this stage of the process is to uncover important factors that could influence the outcome of the project. Neglecting this step can mean that a great deal of effort is put into producing the right answers to the wrong questions.\n",
    "\n",
    "This involves more detailed facts about all of the resources, constraints, assumptions and other factors that you'll need to consider when determining your data analysis goal and project plan. \n",
    "\n",
    "**Task:**\n",
    "\n",
    "* To understand the client's goals in the context of sentiment analysis on social media for monitoring brand perception, this could mean determining key metrics such as positive, negative, and neutral sentiment percentages, identifying trends over time, or uncovering specific areas of concern or praise in customer feedback. The analyst would then use these insights to inform business decisions and strategies.\n",
    "\n",
    "**Outputs:**\n",
    "\n",
    "* Background: The main goal of the four main household appliances is to understand how their products are being perceived in the market, what customers are saying about them, and how they can improve their products and services based on this feedback. They may also be interested in comparing sentiment across their different brands or tracking changes in sentiment over time. The data for this analysis will be collected from three major social media platforms: Twitter, Facebook, and Instagram. The data will likely include user posts, comments, shares, and other forms of engagement.\n",
    "\n",
    "* Business objectives: The organization might also have specific business questions they want to answer, such as identifying common complaints or praises, understanding the impact of specific events or campaigns on sentiment, or comparing their performance to competitors.\n",
    "\n",
    "* Business success criteria: Achieve a high-level accuracy machine learning model that can classify sentiments in an efficient way. The ultimate goal of this project is to use these insights to inform business decisions, improve customer satisfaction, and ultimately enhance the brand's reputation and performance."
   ]
  },
  {
   "cell_type": "markdown",
   "metadata": {},
   "source": [
    "![](assets/1.JPG)"
   ]
  },
  {
   "cell_type": "markdown",
   "metadata": {},
   "source": [
    "## 1.1 Assess the Current Situation<a class=\"anchor\" id=\"Assessthecurrentsituation\"></a>"
   ]
  },
  {
   "cell_type": "markdown",
   "metadata": {},
   "source": [
    "This involves more detailed facts about all of the resources, constraints, assumptions and other factors that you'll need to consider when determining your data analysis goal and project plan. \n",
    "\n",
    "**Task:**\n",
    "\n",
    "\n",
    "* Objective: Analyze customer reviews of a company's products on social media in order to understand and classifying sentiments of the customers posts, identify common themes in customer feedback, and provide actionable insights for product improvement. \n",
    "\n",
    "* Data Collection: Collect data from online platforms where customers post reviews. Data includes the review text, rating, date of the review, and other available metadata.\n",
    "\n",
    "* Data Preprocessing: Clean and preprocess the review text, and convert the preprocessed text into a format suitable for machine learning.\n",
    "\n",
    "* Model Building: Build a sentiment analysis model using machine learning algorithms.\n",
    "\n",
    "* Model Evaluation and Selection: Evaluate the models using appropriate metrics and select the best performing model.\n",
    "\n",
    "* Insight Generation: Use the model to analyze the sentiment of the reviews and identify common themes in the reviews.\n",
    "\n",
    "* Reporting: Report the findings in a clear and understandable manner, highlight the key insights, and provide actionable recommendations for product improvement.\n",
    "\n",
    "\n",
    "**Outputs:** \n",
    "* **List the resources available to the project.**\n",
    "\n",
    "    * **Personnel:** \n",
    "        * A Data Scientist - Me \n",
    "\n",
    "    * **Data:** \n",
    "        * Datasets collected through web scraping from three social media platforms: Twitter, Facebook, and Instagram\n",
    "\n",
    "    * **Computing resources:**\n",
    "        * Lenovo Thinpad Razen3 5000, 8Gb SSD256\n",
    "\n",
    "    * **Software:**\n",
    "\n",
    "        * Jupyter Notebook\n",
    "        * Python 3.11\n",
    "        * Conda 23.11\n",
    "        * Dagshub Web Platform\n",
    "        * DVC\n",
    "        * Git\n",
    "\n",
    "* **Requirements, assumptions and constraints**\n",
    "\n",
    "    * **Requirements**:\n",
    "        * **Schedule of Completion**: The project should be completed within 3 months, with the following breakdown:\n",
    "            - Week 1-2: Data collection from social media platforms.\n",
    "            - Week 3-4: Preprocessing of social media posts.\n",
    "            - Week 5-6: Model building.\n",
    "            - Week 7: Evaluation.\n",
    "            - Week 8-12: Reporting and presentation of results.\n",
    "        * **Comprehensibility and Quality of Results**: The sentiment analysis model should have an accuracy of at least 85%. The insights derived should be relevant to business objectives, such as improving product features or customer service.\n",
    "        * **Security and Legal Issues**: All data used should comply with privacy laws and regulations. Appropriate data security measures should be implemented to protect user information.\n",
    "\n",
    "    * **Assumptions**:\n",
    "        * **Data Assumptions**: The data collected from social media platforms like Twitter, Instagram and Facebook is a representative sample of customers sentiments about four main household appliances brand products and service.\n",
    "        * **Business Assumptions**: Improving areas of the product that receive negative sentiment will lead to increased customer satisfaction and loyalty.\n",
    "\n",
    "    * **Constraints**:\n",
    "        * **Resource Availability**: The project team consists of  1 data scientists(me) with a dedication of 4 hours per week to this project.\n",
    "        * **Technological Constraints**: The computational and resources can handle up to 1 GB of data storage and processing.\n",
    "\n",
    "\n",
    "* **Risks and contingencies**\n",
    "\n",
    "    * **Risks**:\n",
    "       * **Data Quality**: The data collected from social media may not be representative or may contain a lot of noise and irrelevant information.\n",
    "       * **Model Performance**: The sentiment analysis model may not perform as expected due to various reasons such as overfitting, underfitting, bias or the quality of the data.\n",
    "       * **Legal and Ethical Issues**: There may be legal and ethical issues related to data privacy and usage.\n",
    "       * **Resource Constraints**: There may be constraints in terms of time, computational resources or staff.\n",
    "\n",
    "    * **Contingency Measures**:\n",
    "       * **Data Quality**: Regularly monitor and validate the quality of the data. Use robust data cleaning and preprocessing methods. If necessary, consider collecting more data or using different data sources.\n",
    "       * **Model Performance**: Regularly evaluate the model performance using appropriate metrics and validation techniques. Consider trying different models or tuning the model parameters if the performance is not satisfactory.\n",
    "       * **Legal and Ethical Issues**: Ensure compliance with all relevant laws and regulations. Obtain necessary permissions for data usage. Implement appropriate data security measures.\n",
    "       * **Resource Constraints**: Plan the project carefully to make efficient use of available resources. If necessary, consider seeking additional resources or adjusting the project scope.\n",
    "\n",
    "* **Terminology**\n",
    "\n",
    "    * **Sentiment Analysis**: This is the process of determining the emotional tone behind words to understand the attitudes, opinions, and emotions of a speaker or writer. In the context of social media, it's used to understand the sentiments of posts and comments about a product or service.\n",
    "\n",
    "    * **Data Mining**: This is the process of discovering patterns in large data sets involving methods at the intersection of machine learning, statistics, and database systems. It's an essential process where intelligent methods are applied to extract data patterns.\n",
    "\n",
    "    * **Natural Language Processing (NLP)**: This is a subfield of artificial intelligence that focuses on the interaction between computers and humans through natural language. The ultimate objective of NLP is to read, decipher, understand, and make sense of human language in a valuable way.\n",
    "\n",
    "    * **Machine Learning**: This is a method of data analysis that automates analytical model building. It's a branch of artificial intelligence based on the idea that systems can learn from data, identify patterns and make decisions with minimal human intervention.\n",
    "\n",
    "    * **Overfitting and Underfitting**: Overfitting occurs when a statistical model or machine learning algorithm captures the noise of the data. Underfitting occurs when a statistical model or machine learning algorithm cannot capture the underlying trend of the data.\n",
    "\n",
    "    * **Bias and Variance**: Bias is the simplifying assumptions made by the model to make the target function easier to approximate. Variance is the amount that the estimate of the target function will change given different training data.\n",
    "\n",
    "    * **Training and Test Data**: Training data is used to train an algorithm, often with the aim of fitting a model. Test data is used to assess how well that model has been fitted.\n",
    "\n",
    "* **Costs and benefits**\n",
    "\n",
    "    * **Costs**:\n",
    "        * **Data Collection and Processing**: This includes the cost of collecting and preprocessing the social media data. It could involve costs for APIs to collect data, servers for data storage, and computational resources for data processing.\n",
    "        * **Model Development**: This includes the cost of the time and resources spent on developing, training, and testing the sentiment analysis model.\n",
    "        * **Deployment and Maintenance**: Once the model is developed, there could be costs associated with deploying it in a production environment and maintaining it over time.\n",
    "\n",
    "    * **Benefits**:\n",
    "        * **Improved Decision Making**: By understanding customer sentiment, the business can make more informed decisions about product development, marketing strategies, customer service, etc. This can lead to increased sales, customer retention, and overall business growth.\n",
    "        * **Cost Savings**: By automating the process of sentiment analysis, the business can potentially save on the costs of manual data analysis and market research."
   ]
  },
  {
   "cell_type": "markdown",
   "metadata": {},
   "source": [
    " ## 1.2 What are the desired outputs of the project? <a class=\"anchor\" id=\"Desiredoutputs\"></a>"
   ]
  },
  {
   "cell_type": "markdown",
   "metadata": {},
   "source": [
    "* **Business Success Criteria**:\n",
    "    * **Improved Business Decisions**: The insights from the sentiment analysis should lead to more informed business decisions. For example, if negative sentiment is frequently associated with a certain product feature, the company might decide to modify that feature.\n",
    "    * **Increased Customer Satisfaction**: If the insights are acted upon, there should be an observable increase in customer satisfaction. This could be measured through metrics like customer reviews, repeat purchases or reduced complaints.\n",
    "\n",
    "* **Data Mining Success Criteria**:\n",
    "    * **Exploratory Data Analysis (EDA)**: The EDA should reveal the main metrics, trends, and patterns in the sentiment data. For example, it might reveal that sentiment about the company is particularly negative on certain social media platforms, or at certain times.\n",
    "    * **Sentiment Analysis Model Performance**: The sentiment analysis model should accurately classify social media posts as positive, negative or neutral. This could be measured using metrics like precision, recall or F1 score.\n",
    "    * **Insight Generation**: The analysis should generate actionable insights for the company. For example, it might identify specific product features or customer service issues that are driving negative sentiment.\n",
    "\n",
    "* **Project Plan**:\n",
    "---\n",
    " <p style=\"text-align: center;\">2023/2024</p>\n",
    "</div>\n",
    "<p align=\"center\">\n",
    "    <img align=\"center\" width=\"auto\" height=\"500\" src=\"assets/Project-Plan.png\">\n",
    "</p>\n",
    "\n",
    "---"
   ]
  },
  {
   "cell_type": "markdown",
   "metadata": {},
   "source": [
    " ## 1.3 What Questions Are We Trying To Answer? <a class=\"anchor\" id=\"QA\"></a>"
   ]
  },
  {
   "cell_type": "markdown",
   "metadata": {},
   "source": [
    "* What is the overall sentiment towards our brand on social media platforms?\n",
    "* Are there certain products or services that receive more negative sentiment than others?\n",
    "* How does sentiment towards our brand vary across different social media platforms?\n",
    "* Are there specific events or time periods where sentiment towards our brand significantly changes?\n",
    "* Can we identify any trends or patterns in the sentiment data over time?\n",
    "* How accurate is our sentiment analysis model in classifying social media posts?\n",
    "* What actionable insights can we derive from the sentiment analysis to improve our business?"
   ]
  },
  {
   "cell_type": "markdown",
   "metadata": {},
   "source": [
    "***"
   ]
  },
  {
   "cell_type": "markdown",
   "metadata": {},
   "source": [
    "# 2. Stage  Two - Data Understanding <a class=\"anchor\" id=\"Dataunderstanding\"></a>\n",
    "The second stage of the CRISP-DM process requires you to acquire the data listed in the project resources. This initial collection includes data loading, if this is necessary for data understanding. For example, if you use a specific tool for data understanding, it makes perfect sense to load your data into this tool. If you acquire multiple data sources then you need to consider how and when you're going to integrate these."
   ]
  },
  {
   "cell_type": "markdown",
   "metadata": {},
   "source": [
    "![](assets/2.JPG)"
   ]
  },
  {
   "cell_type": "markdown",
   "metadata": {},
   "source": [
    "## 2.1 Initial Data Report <a class=\"anchor\" id=\"Datareport\"></a>\n",
    "\n",
    "\n",
    "List the data sources acquired together with their locations, the methods used to acquire them and any problems encountered. Record problems you encountered and any resolutions achieved. This will help both with future replication of this project and with the execution of similar future projects."
   ]
  },
  {
   "cell_type": "markdown",
   "metadata": {},
   "source": [
    "**Tasks**\n",
    "\n",
    "* **Data Sources and Locations**:\n",
    "    * **Twitter**: Public tweets can be collected using the Twitter API. The data includes tweet content, user information, and metadata such as the time of the tweet and engagement metrics (likes, retweets, etc.).\n",
    "    * **Facebook**: Public posts from Facebook Pages can be collected using the Facebook Graph API. The data includes post content, user reactions, and metadata.\n",
    "    * **instagram**: Public posts from Facebook Pages can be collected using the Facebook Graph API. The data includes post content, user reactions, and metadata.\n",
    "* **Methods Used to Acquire Data**:\n",
    "    * **APIs**: Both Twitter and Facebook/Instagram provide APIs that allow for the collection of public posts. These APIs have certain rate limits and require authentication, so an access token is needed. It might have some costs too.\n",
    "    * **Web Scraping**: In some cases, web scraping might be used as a method to collect data. However, this should be done in compliance with the platform's terms of service.\n",
    "\n",
    "* **Problems Encountered and Resolutions**:\n",
    "    * **Rate Limits**: API's often have rate limits that restrict the amount of data you can collect in a certain timeframe. To handle this, we can implement a pause in our data collection script to prevent hitting the rate limit and generate to much costs.\n",
    "    * **Data Quality**: Social media data can be noisy and unstructured. Preprocessing steps such as cleaning, normalization, and tokenization can be used to improve the quality of the data.\n",
    "    * **Privacy Concerns**: It's important to respect user privacy when collecting social media data. Only collect publicly available data and avoid collecting sensitive information. Always comply with the terms of service of the platform."
   ]
  },
  {
   "cell_type": "markdown",
   "metadata": {},
   "source": [
    "This is the dataset schema/description:\n",
    "\n",
    "* **social**: This column would contain the name of the social media platform from which the post was collected. For example, 'Twitter', 'Facebook', etc. It would likely be a categorical variable.\n",
    "\n",
    "* **post**: This column would contain the actual text of the social media post. This would be a text variable, and could contain any kind of text data - from short tweets and Instagram emojis to longer Facebook posts.\n",
    "\n",
    "* **class**: This column would contain the sentiment of the post as determined by the sentiment analysis model. This could be a categorical variable with values like 'Positive', 'Negative', and 'Neutral'. Alternatively, it could be a numerical variable if the sentiment is represented as a score.\n",
    "\n",
    "Here's an example of how the data might look:\n",
    "\n",
    "| social | post | class |\n",
    "|--------|------|-----------|\n",
    "| Twitter | \"I love my new refrigerator!\" | Positive |\n",
    "| Facebook | \"The customer service was terrible.\" | Negative |\n",
    "| Instagram | \"Just got a new coffemachine. It's okay, I guess.\" | Neutral |\n"
   ]
  },
  {
   "cell_type": "code",
   "execution_count": 2,
   "metadata": {},
   "outputs": [],
   "source": [
    "# Libraries used in this notebook\n",
    "import re\n",
    "import os\n",
    "import spacy\n",
    "import warnings\n",
    "import numpy as np\n",
    "import pandas as pd\n",
    "from matplotlib import pyplot as plt\n",
    "\n",
    "%matplotlib inline\n",
    "warnings.filterwarnings(\"ignore\")\n",
    "%load_ext autoreload \n",
    "%autoreload 2\n",
    "%reload_ext autoreload"
   ]
  },
  {
   "cell_type": "code",
   "execution_count": 2,
   "metadata": {},
   "outputs": [],
   "source": [
    "# importing raw data to the notebook and rename columns\n",
    "df_raw = pd.read_pickle(\"./data/social_media_posts.pkl\")"
   ]
  },
  {
   "cell_type": "code",
   "execution_count": 3,
   "metadata": {},
   "outputs": [
    {
     "data": {
      "text/html": [
       "<div>\n",
       "<style scoped>\n",
       "    .dataframe tbody tr th:only-of-type {\n",
       "        vertical-align: middle;\n",
       "    }\n",
       "\n",
       "    .dataframe tbody tr th {\n",
       "        vertical-align: top;\n",
       "    }\n",
       "\n",
       "    .dataframe thead th {\n",
       "        text-align: right;\n",
       "    }\n",
       "</style>\n",
       "<table border=\"1\" class=\"dataframe\">\n",
       "  <thead>\n",
       "    <tr style=\"text-align: right;\">\n",
       "      <th></th>\n",
       "      <th>social</th>\n",
       "      <th>post</th>\n",
       "      <th>class</th>\n",
       "    </tr>\n",
       "  </thead>\n",
       "  <tbody>\n",
       "    <tr>\n",
       "      <th>0</th>\n",
       "      <td>twitter</td>\n",
       "      <td>@claudfeb @mayrasmendoza @CFKArgentina Andar c...</td>\n",
       "      <td>negativo</td>\n",
       "    </tr>\n",
       "    <tr>\n",
       "      <th>1</th>\n",
       "      <td>twitter</td>\n",
       "      <td>@jornal_cultura @tvcultura</td>\n",
       "      <td>negativo</td>\n",
       "    </tr>\n",
       "    <tr>\n",
       "      <th>2</th>\n",
       "      <td>twitter</td>\n",
       "      <td>@Paulimbh Pq minas tem produzido tanta merda n...</td>\n",
       "      <td>negativo</td>\n",
       "    </tr>\n",
       "    <tr>\n",
       "      <th>3</th>\n",
       "      <td>twitter</td>\n",
       "      <td>@pimentelminas:  \"Mesmo em calamidade financei...</td>\n",
       "      <td>negativo</td>\n",
       "    </tr>\n",
       "    <tr>\n",
       "      <th>4</th>\n",
       "      <td>twitter</td>\n",
       "      <td>@rafaelyancabj provavelmente é mano, muda de e...</td>\n",
       "      <td>negativo</td>\n",
       "    </tr>\n",
       "    <tr>\n",
       "      <th>...</th>\n",
       "      <td>...</td>\n",
       "      <td>...</td>\n",
       "      <td>...</td>\n",
       "    </tr>\n",
       "    <tr>\n",
       "      <th>331402</th>\n",
       "      <td>facebook</td>\n",
       "      <td>NaN</td>\n",
       "      <td>neutro</td>\n",
       "    </tr>\n",
       "    <tr>\n",
       "      <th>331403</th>\n",
       "      <td>instagram</td>\n",
       "      <td>viu a larissa manoela fazendo post zuando o fi...</td>\n",
       "      <td>positivo</td>\n",
       "    </tr>\n",
       "    <tr>\n",
       "      <th>331404</th>\n",
       "      <td>instagram</td>\n",
       "      <td>prezados,\\n\\n\\nestamos abrindo o perfil da vov...</td>\n",
       "      <td>neutro</td>\n",
       "    </tr>\n",
       "    <tr>\n",
       "      <th>331405</th>\n",
       "      <td>instagram</td>\n",
       "      <td>bblend, dúvida: com o fim da loja no shopping ...</td>\n",
       "      <td>neutro</td>\n",
       "    </tr>\n",
       "    <tr>\n",
       "      <th>331406</th>\n",
       "      <td>facebook</td>\n",
       "      <td>deus ti abençoe</td>\n",
       "      <td>neutro</td>\n",
       "    </tr>\n",
       "  </tbody>\n",
       "</table>\n",
       "<p>331407 rows × 3 columns</p>\n",
       "</div>"
      ],
      "text/plain": [
       "           social                                               post     class\n",
       "0         twitter  @claudfeb @mayrasmendoza @CFKArgentina Andar c...  negativo\n",
       "1         twitter                        @jornal_cultura @tvcultura   negativo\n",
       "2         twitter  @Paulimbh Pq minas tem produzido tanta merda n...  negativo\n",
       "3         twitter  @pimentelminas:  \"Mesmo em calamidade financei...  negativo\n",
       "4         twitter  @rafaelyancabj provavelmente é mano, muda de e...  negativo\n",
       "...           ...                                                ...       ...\n",
       "331402   facebook                                                NaN    neutro\n",
       "331403  instagram  viu a larissa manoela fazendo post zuando o fi...  positivo\n",
       "331404  instagram  prezados,\\n\\n\\nestamos abrindo o perfil da vov...    neutro\n",
       "331405  instagram  bblend, dúvida: com o fim da loja no shopping ...    neutro\n",
       "331406   facebook                                    deus ti abençoe    neutro\n",
       "\n",
       "[331407 rows x 3 columns]"
      ]
     },
     "execution_count": 3,
     "metadata": {},
     "output_type": "execute_result"
    }
   ],
   "source": [
    "df_raw"
   ]
  },
  {
   "cell_type": "code",
   "execution_count": 4,
   "metadata": {},
   "outputs": [
    {
     "data": {
      "image/png": "[encoded data removed]",
      "text/plain": [
       "<Figure size 1000x800 with 1 Axes>"
      ]
     },
     "metadata": {},
     "output_type": "display_data"
    }
   ],
   "source": [
    "# Create a word cloud in order to vizualize the more frequent words on the dataset\n",
    "\n",
    "# import custom packages\n",
    "from utils.BrazilianWordcloud import wordcloud, image_to_mask\n",
    "\n",
    "#Create the mask and colect post sample\n",
    "brazilian_mask = image_to_mask('./assets/brazilian_map.jpg')\n",
    "df_raw_SAMPLE = df_raw[~df_raw['post'].isnull()].sample(n=150000)\n",
    "\n",
    "# colect a portuguese corpus\n",
    "portuguese_corpus = df_raw_SAMPLE['post'].str.cat(sep=\" \")\n",
    "    \n",
    "# Use function to generate wordcloud\n",
    "cloud = wordcloud(portuguese_corpus, 'Brazilian WordCloud', mask=brazilian_mask)"
   ]
  },
  {
   "cell_type": "code",
   "execution_count": 5,
   "metadata": {},
   "outputs": [
    {
     "data": {
      "text/plain": [
       "<wordcloud.wordcloud.WordCloud at 0x23bb056bf90>"
      ]
     },
     "execution_count": 5,
     "metadata": {},
     "output_type": "execute_result"
    }
   ],
   "source": [
    "cloud.to_file('./assets/wordcloud.png')"
   ]
  },
  {
   "cell_type": "code",
   "execution_count": 6,
   "metadata": {},
   "outputs": [
    {
     "data": {
      "image/png": "[encoded data removed]",
      "text/plain": [
       "<Figure size 640x480 with 1 Axes>"
      ]
     },
     "metadata": {},
     "output_type": "display_data"
    },
    {
     "data": {
      "text/plain": [
       "social\n",
       "instagram    173609\n",
       "facebook     108790\n",
       "twitter       49008\n",
       "Name: count, dtype: int64"
      ]
     },
     "execution_count": 6,
     "metadata": {},
     "output_type": "execute_result"
    }
   ],
   "source": [
    "# frequence count of each social media platform\n",
    "plt.hist(df_raw[\"social\"])\n",
    "plt.show()\n",
    "df_raw['social'].value_counts()"
   ]
  },
  {
   "cell_type": "code",
   "execution_count": 7,
   "metadata": {},
   "outputs": [
    {
     "data": {
      "image/png": "[encoded data removed]",
      "text/plain": [
       "<Figure size 640x480 with 1 Axes>"
      ]
     },
     "metadata": {},
     "output_type": "display_data"
    }
   ],
   "source": [
    "# relative frequence of each sentiment class\n",
    "from utils.DonutsPloter import donuts_plot\n",
    "class_counts = df_raw['class'].value_counts()\n",
    "total_classes = len(df_raw['class'])\n",
    "\n",
    "# # Calculate the percentages\n",
    "percentages = [count / total_classes * 100 for count in class_counts]\n",
    "\n",
    "# generate a donuts plot\n",
    "donuts_plot(percentages, class_counts)"
   ]
  },
  {
   "cell_type": "code",
   "execution_count": 8,
   "metadata": {},
   "outputs": [
    {
     "data": {
      "image/png": "[encoded data removed]",
      "text/plain": [
       "<Figure size 640x480 with 1 Axes>"
      ]
     },
     "metadata": {},
     "output_type": "display_data"
    },
    {
     "name": "stdout",
     "output_type": "stream",
     "text": [
      "class\n",
      "neutro      152053\n",
      "positivo    111641\n",
      "negativo     67713\n",
      "Name: count, dtype: int64\n"
     ]
    }
   ],
   "source": [
    "# Create a bar chart of relative frequence of each sentiment class\n",
    "plt.bar(class_counts.index, class_counts)\n",
    "\n",
    "# Add labels and title\n",
    "plt.ylabel('% of Values')\n",
    "plt.title('Percentage of Values in Column')\n",
    "\n",
    "# Show the plot\n",
    "plt.show()\n",
    "print(class_counts)"
   ]
  },
  {
   "cell_type": "markdown",
   "metadata": {},
   "source": [
    "## 2.2 Describe Data <a class=\"anchor\" id=\"Describedata\"></a>\n",
    "A total of 3,331,406 posts were collected from the three main social media platforms: Facebook with 1,087,790 posts, Instagram with 1,736,090 posts, and Twitter with 490,080 posts.\n",
    "\n",
    "The final configuration of our database resulted in a structure divided into three main variables. The first, \"Social,\" refers to the social media platform from which the observation was collected. The second, \"Post,\" contains the publication made by the user on the respective platforms, and the third, \"Class,\" represents the sentiment classification assigned to each post, distributed between positive and negative. When analyzing the database..."
   ]
  },
  {
   "cell_type": "markdown",
   "metadata": {},
   "source": "AFirst glance at the train set: head and tail"
  },
  {
   "cell_type": "code",
   "execution_count": 9,
   "metadata": {},
   "outputs": [
    {
     "data": {
      "text/html": [
       "<div>\n",
       "<style scoped>\n",
       "    .dataframe tbody tr th:only-of-type {\n",
       "        vertical-align: middle;\n",
       "    }\n",
       "\n",
       "    .dataframe tbody tr th {\n",
       "        vertical-align: top;\n",
       "    }\n",
       "\n",
       "    .dataframe thead th {\n",
       "        text-align: right;\n",
       "    }\n",
       "</style>\n",
       "<table border=\"1\" class=\"dataframe\">\n",
       "  <thead>\n",
       "    <tr style=\"text-align: right;\">\n",
       "      <th></th>\n",
       "      <th>social</th>\n",
       "      <th>post</th>\n",
       "      <th>class</th>\n",
       "    </tr>\n",
       "  </thead>\n",
       "  <tbody>\n",
       "    <tr>\n",
       "      <th>0</th>\n",
       "      <td>twitter</td>\n",
       "      <td>@claudfeb @mayrasmendoza @CFKArgentina Andar c...</td>\n",
       "      <td>negativo</td>\n",
       "    </tr>\n",
       "    <tr>\n",
       "      <th>1</th>\n",
       "      <td>twitter</td>\n",
       "      <td>@jornal_cultura @tvcultura</td>\n",
       "      <td>negativo</td>\n",
       "    </tr>\n",
       "    <tr>\n",
       "      <th>2</th>\n",
       "      <td>twitter</td>\n",
       "      <td>@Paulimbh Pq minas tem produzido tanta merda n...</td>\n",
       "      <td>negativo</td>\n",
       "    </tr>\n",
       "    <tr>\n",
       "      <th>3</th>\n",
       "      <td>twitter</td>\n",
       "      <td>@pimentelminas:  \"Mesmo em calamidade financei...</td>\n",
       "      <td>negativo</td>\n",
       "    </tr>\n",
       "    <tr>\n",
       "      <th>4</th>\n",
       "      <td>twitter</td>\n",
       "      <td>@rafaelyancabj provavelmente é mano, muda de e...</td>\n",
       "      <td>negativo</td>\n",
       "    </tr>\n",
       "    <tr>\n",
       "      <th>...</th>\n",
       "      <td>...</td>\n",
       "      <td>...</td>\n",
       "      <td>...</td>\n",
       "    </tr>\n",
       "    <tr>\n",
       "      <th>331402</th>\n",
       "      <td>facebook</td>\n",
       "      <td>NaN</td>\n",
       "      <td>neutro</td>\n",
       "    </tr>\n",
       "    <tr>\n",
       "      <th>331403</th>\n",
       "      <td>instagram</td>\n",
       "      <td>viu a larissa manoela fazendo post zuando o fi...</td>\n",
       "      <td>positivo</td>\n",
       "    </tr>\n",
       "    <tr>\n",
       "      <th>331404</th>\n",
       "      <td>instagram</td>\n",
       "      <td>prezados,\\n\\n\\nestamos abrindo o perfil da vov...</td>\n",
       "      <td>neutro</td>\n",
       "    </tr>\n",
       "    <tr>\n",
       "      <th>331405</th>\n",
       "      <td>instagram</td>\n",
       "      <td>bblend, dúvida: com o fim da loja no shopping ...</td>\n",
       "      <td>neutro</td>\n",
       "    </tr>\n",
       "    <tr>\n",
       "      <th>331406</th>\n",
       "      <td>facebook</td>\n",
       "      <td>deus ti abençoe</td>\n",
       "      <td>neutro</td>\n",
       "    </tr>\n",
       "  </tbody>\n",
       "</table>\n",
       "<p>331407 rows × 3 columns</p>\n",
       "</div>"
      ],
      "text/plain": [
       "           social                                               post     class\n",
       "0         twitter  @claudfeb @mayrasmendoza @CFKArgentina Andar c...  negativo\n",
       "1         twitter                        @jornal_cultura @tvcultura   negativo\n",
       "2         twitter  @Paulimbh Pq minas tem produzido tanta merda n...  negativo\n",
       "3         twitter  @pimentelminas:  \"Mesmo em calamidade financei...  negativo\n",
       "4         twitter  @rafaelyancabj provavelmente é mano, muda de e...  negativo\n",
       "...           ...                                                ...       ...\n",
       "331402   facebook                                                NaN    neutro\n",
       "331403  instagram  viu a larissa manoela fazendo post zuando o fi...  positivo\n",
       "331404  instagram  prezados,\\n\\n\\nestamos abrindo o perfil da vov...    neutro\n",
       "331405  instagram  bblend, dúvida: com o fim da loja no shopping ...    neutro\n",
       "331406   facebook                                    deus ti abençoe    neutro\n",
       "\n",
       "[331407 rows x 3 columns]"
      ]
     },
     "execution_count": 9,
     "metadata": {},
     "output_type": "execute_result"
    }
   ],
   "source": [
    "df_raw"
   ]
  },
  {
   "cell_type": "markdown",
   "metadata": {},
   "source": [
    "## 2.3 Verify Data Quality <a class=\"anchor\" id=\"Verifydataquality\"></a>\n",
    "\n",
    "Examine the quality of the data, addressing questions such as:\n",
    "\n",
    "- Is the data complete (does it cover all the cases required)?\n",
    "    - Yes. The data is complete and covers the NLP scenário \n",
    "- Is it correct, or does it contain errors and, if there are errors, how common are they?\n",
    "    - The dataset contains a lot of noise data like repeated chars, NaN values and other text issues\n",
    "- Are there missing values in the data? If so, how are they represented, where do they occur, and how common are they?\n",
    "    - There is a lot of missing values on the 'post' column that have to be remove from the dataset"
   ]
  },
  {
   "cell_type": "markdown",
   "metadata": {},
   "source": [
    "### 2.3.1. Missing Data <a class=\"anchor\" id=\"MissingData\"></a>\n",
    "In addition to incorrect datatypes, another common problem when dealing with real-world data is missing values. These can arise for many reasons and have to be either filled in or removed before we train a machine learning model. First, let’s get a sense of how many missing values are in each column \n",
    "\n",
    "While we always want to be careful about removing information, if a column has a high percentage of missing values, then it probably will not be useful to our model. The threshold for removing columns should depend on the problem"
   ]
  },
  {
   "cell_type": "code",
   "execution_count": 10,
   "metadata": {},
   "outputs": [
    {
     "data": {
      "text/plain": [
       "social        0\n",
       "post      23821\n",
       "class         0\n",
       "dtype: int64"
      ]
     },
     "execution_count": 10,
     "metadata": {},
     "output_type": "execute_result"
    }
   ],
   "source": [
    "# check for NaN values\n",
    "df_raw.isnull().sum()"
   ]
  },
  {
   "cell_type": "code",
   "execution_count": 11,
   "metadata": {},
   "outputs": [
    {
     "data": {
      "text/plain": [
       "social    0\n",
       "post      0\n",
       "class     0\n",
       "dtype: int64"
      ]
     },
     "execution_count": 11,
     "metadata": {},
     "output_type": "execute_result"
    }
   ],
   "source": [
    "# drop NA Values\n",
    "df_raw = df_raw.dropna()\n",
    "df_raw.isnull().sum()"
   ]
  },
  {
   "cell_type": "code",
   "execution_count": 12,
   "metadata": {},
   "outputs": [
    {
     "data": {
      "text/plain": [
       "count     307586\n",
       "unique    197334\n",
       "top           ❤️\n",
       "freq        5247\n",
       "Name: post, dtype: object"
      ]
     },
     "execution_count": 12,
     "metadata": {},
     "output_type": "execute_result"
    }
   ],
   "source": [
    "df_raw['post'].describe()"
   ]
  },
  {
   "cell_type": "markdown",
   "metadata": {},
   "source": [
    "### 2.3.3. Data Quality Report <a class=\"anchor\" id=\"DataQualityReport\"></a>"
   ]
  },
  {
   "cell_type": "markdown",
   "metadata": {},
   "source": [
    "Findings\n",
    "    \n",
    "* No major data quality problems were detected in the first EDA\n",
    "* No outliers were detected\n",
    "* There is a lot of noise text that must be pre-processed in orther to achiec a clean and representative vocabulary"
   ]
  },
  {
   "cell_type": "markdown",
   "metadata": {
    "jp-MarkdownHeadingCollapsed": true
   },
   "source": [
    "## 2.4 Initial Data Exploration  <a class=\"anchor\" id=\"Exploredata\"></a>\n",
    "During this stage you'll address data mining questions using querying, data visualization and reporting techniques. These may include:\n",
    "\n",
    "- **Distribution** of sentiment classes in orther to define the best modeling technique\n",
    "- **Relationships** between words so we be able to define what the best n-grams aproach\n",
    "- **Properties** of the main language (portuguese) in order to guarantee a clean and concise vocabulary\n",
    "\n",
    "- **Data exploration report** - Describe results of your data exploration, including first findings or initial hypothesis and their impact on the remainder of the project. If appropriate you could include graphs and plots here to indicate data characteristics that suggest further examination of interesting data subsets."
   ]
  },
  {
   "cell_type": "markdown",
   "metadata": {},
   "source": [
    "## 2.5 Data Exploration Report <a class=\"anchor\" id=\"IDataExplorationReport\"></a>"
   ]
  },
  {
   "cell_type": "markdown",
   "metadata": {},
   "source": [
    "Describe results of this task, including:\n",
    "* Noisy Text: The Raw text contains i lot of noise, including special characters, emojis, URLs, and inconsistent capitalization.\n",
    "\n",
    "* Stopwords: Common words (stopwords) like parae,” ed,” or den” don’t contribute much to the meaning and can be removed\n",
    "Normalization: the text by need t tbe converted to o lowercase anall the g punctuati, numbers and special charesctersowill be remove in order tops standardize the daton."
   ]
  },
  {
   "cell_type": "markdown",
   "metadata": {},
   "source": [
    "***"
   ]
  },
  {
   "cell_type": "markdown",
   "metadata": {},
   "source": [
    "# 3. Stage Three - Data Preperation <a class=\"anchor\" id=\"Datapreperation2\"></a>\n",
    "This is the stage of the project where you decide on the data that you're going to use for analysis. The criteria you might use to make this decision include the relevance of the data to your data mining goals, the quality of the data, and also technical constraints such as limits on data volume or data types. Note that data selection covers selection of attributes (columns) as well as selection of records (rows) in a table."
   ]
  },
  {
   "cell_type": "markdown",
   "metadata": {},
   "source": [
    "![](assets/3.JPG)"
   ]
  },
  {
   "cell_type": "markdown",
   "metadata": {
    "jp-MarkdownHeadingCollapsed": true
   },
   "source": [
    "## 3.1 Select Your Data <a class=\"anchor\" id=\"Selectyourdata\"></a>\n",
    "\n",
    "* The data selected for the modelling was collected throught webscrapping techniques and was stored as a excel format \n",
    "* The data was already spited into Train and Test.\n",
    "* The raw dataset contains 318188 rows × 7 columns\n",
    "* Only 3 columns have had select: social, post and class "
   ]
  },
  {
   "cell_type": "markdown",
   "metadata": {},
   "source": [
    "## 3.2 Clean and Pre-processing the Data <a class=\"anchor\" id=\"Cleansethedata\"></a>\n",
    "This task involves raise the data quality to the level required by the analysis techniques that you've selected. This may involve selecting clean subsets of the data, the insertion of suitable defaults, or more ambitious techniques such as the estimation of missing data by modelling."
   ]
  },
  {
   "cell_type": "code",
   "execution_count": 13,
   "metadata": {},
   "outputs": [],
   "source": [
    "# remove extra spaces from every row and drop NA or empty values\n",
    "df_raw['post'] = df_raw['post'].str.strip()\n",
    "df_raw = df_raw[df_raw['post'] != '']\n",
    "df_raw = df_raw.dropna()"
   ]
  },
  {
   "cell_type": "code",
   "execution_count": 14,
   "metadata": {},
   "outputs": [],
   "source": [
    "# import and apply the textclean module\n",
    "from utils.TextDataCleaner import *\n",
    "\n",
    "df_raw['post'] = df_raw['post'].apply(to_lower)\n",
    "df_raw['post'] = df_raw['post'].apply(remove_usernames)\n",
    "df_raw['post'] = df_raw['post'].apply(remove_urls)\n",
    "df_raw['post'] = df_raw['post'].apply(remove_hashtags)\n",
    "df_raw['post'] = df_raw['post'].apply(remove_new_lines_char)\n",
    "df_raw['post'] = df_raw['post'].apply(remove_non_alphabets)\n",
    "df_raw['post'] = df_raw['post'].apply(remove_accents)\n",
    "df_raw['post'] = df_raw['post'].apply(remove_words_with_repeating_letters)"
   ]
  },
  {
   "cell_type": "code",
   "execution_count": 15,
   "metadata": {},
   "outputs": [
    {
     "data": {
      "text/plain": [
       "social    0\n",
       "post      0\n",
       "class     0\n",
       "dtype: int64"
      ]
     },
     "execution_count": 15,
     "metadata": {},
     "output_type": "execute_result"
    }
   ],
   "source": [
    "# asserting that no NA or empty values remains after the first clean process\n",
    "df_raw['post'] = df_raw['post'].str.strip()\n",
    "df_raw['post'] = df_raw['post'].replace('', np.nan, regex=True)\n",
    "df_raw = df_raw.dropna()\n",
    "df_raw.isnull().sum()"
   ]
  },
  {
   "cell_type": "code",
   "execution_count": 16,
   "metadata": {},
   "outputs": [
    {
     "data": {
      "text/html": [
       "<div>\n",
       "<style scoped>\n",
       "    .dataframe tbody tr th:only-of-type {\n",
       "        vertical-align: middle;\n",
       "    }\n",
       "\n",
       "    .dataframe tbody tr th {\n",
       "        vertical-align: top;\n",
       "    }\n",
       "\n",
       "    .dataframe thead th {\n",
       "        text-align: right;\n",
       "    }\n",
       "</style>\n",
       "<table border=\"1\" class=\"dataframe\">\n",
       "  <thead>\n",
       "    <tr style=\"text-align: right;\">\n",
       "      <th></th>\n",
       "      <th>social</th>\n",
       "      <th>post</th>\n",
       "      <th>class</th>\n",
       "    </tr>\n",
       "  </thead>\n",
       "  <tbody>\n",
       "    <tr>\n",
       "      <th>0</th>\n",
       "      <td>twitter</td>\n",
       "      <td>andar con minas no  pelotudo  pagarlas con gui...</td>\n",
       "      <td>negativo</td>\n",
       "    </tr>\n",
       "    <tr>\n",
       "      <th>2</th>\n",
       "      <td>twitter</td>\n",
       "      <td>pq minas tem produzido tanta merda na politica...</td>\n",
       "      <td>negativo</td>\n",
       "    </tr>\n",
       "    <tr>\n",
       "      <th>3</th>\n",
       "      <td>twitter</td>\n",
       "      <td>mesmo em calamidade financeira  governo de mg ...</td>\n",
       "      <td>negativo</td>\n",
       "    </tr>\n",
       "    <tr>\n",
       "      <th>4</th>\n",
       "      <td>twitter</td>\n",
       "      <td>provavelmente e mano  muda de estado pra estado</td>\n",
       "      <td>negativo</td>\n",
       "    </tr>\n",
       "    <tr>\n",
       "      <th>5</th>\n",
       "      <td>twitter</td>\n",
       "      <td>a formula do fracasso</td>\n",
       "      <td>negativo</td>\n",
       "    </tr>\n",
       "    <tr>\n",
       "      <th>...</th>\n",
       "      <td>...</td>\n",
       "      <td>...</td>\n",
       "      <td>...</td>\n",
       "    </tr>\n",
       "    <tr>\n",
       "      <th>331400</th>\n",
       "      <td>facebook</td>\n",
       "      <td>vou te enviar a foto da etiqueta e da nota fiscal</td>\n",
       "      <td>neutro</td>\n",
       "    </tr>\n",
       "    <tr>\n",
       "      <th>331403</th>\n",
       "      <td>instagram</td>\n",
       "      <td>viu a larissa manoela fazendo post zuando o fi...</td>\n",
       "      <td>positivo</td>\n",
       "    </tr>\n",
       "    <tr>\n",
       "      <th>331404</th>\n",
       "      <td>instagram</td>\n",
       "      <td>prezados    estamos abrindo o perfil da vovo i...</td>\n",
       "      <td>neutro</td>\n",
       "    </tr>\n",
       "    <tr>\n",
       "      <th>331405</th>\n",
       "      <td>instagram</td>\n",
       "      <td>bblend  duvida  com o fim da loja no shopping ...</td>\n",
       "      <td>neutro</td>\n",
       "    </tr>\n",
       "    <tr>\n",
       "      <th>331406</th>\n",
       "      <td>facebook</td>\n",
       "      <td>deus ti abencoe</td>\n",
       "      <td>neutro</td>\n",
       "    </tr>\n",
       "  </tbody>\n",
       "</table>\n",
       "<p>287549 rows × 3 columns</p>\n",
       "</div>"
      ],
      "text/plain": [
       "           social                                               post     class\n",
       "0         twitter  andar con minas no  pelotudo  pagarlas con gui...  negativo\n",
       "2         twitter  pq minas tem produzido tanta merda na politica...  negativo\n",
       "3         twitter  mesmo em calamidade financeira  governo de mg ...  negativo\n",
       "4         twitter    provavelmente e mano  muda de estado pra estado  negativo\n",
       "5         twitter                              a formula do fracasso  negativo\n",
       "...           ...                                                ...       ...\n",
       "331400   facebook  vou te enviar a foto da etiqueta e da nota fiscal    neutro\n",
       "331403  instagram  viu a larissa manoela fazendo post zuando o fi...  positivo\n",
       "331404  instagram  prezados    estamos abrindo o perfil da vovo i...    neutro\n",
       "331405  instagram  bblend  duvida  com o fim da loja no shopping ...    neutro\n",
       "331406   facebook                                    deus ti abencoe    neutro\n",
       "\n",
       "[287549 rows x 3 columns]"
      ]
     },
     "execution_count": 16,
     "metadata": {},
     "output_type": "execute_result"
    }
   ],
   "source": [
    "df_raw"
   ]
  },
  {
   "cell_type": "code",
   "execution_count": 17,
   "metadata": {},
   "outputs": [],
   "source": [
    "# GET A SMALL SAMPLE OF THE DATA\n",
    "# df_raw = df_raw.sample(n=10000)"
   ]
  },
  {
   "cell_type": "markdown",
   "metadata": {},
   "source": [
    "### 3.2.1 Label Encoding <a class=\"anchor\" id=\"labelEncoding\"></a>\n",
    "Label Encoding to turn Categorical values to Integers\n",
    "\n"
   ]
  },
  {
   "cell_type": "code",
   "execution_count": null,
   "metadata": {},
   "outputs": [],
   "source": [
    "# this step is optinal. It will depend of the model choose for the classification\n",
    "# Some models, like XGBoost, require numeric labels to be seted as 2, 1 or 0\n",
    "df_raw = df_raw.replace({'class': {'positivo' : 1, \n",
    "                                    'negativo' : 0}})\n",
    "df_raw.head()"
   ]
  },
  {
   "cell_type": "markdown",
   "metadata": {},
   "source": [
    "### 3.2.2 Applying NLP pre-processing techniques <a class=\"anchor\" id=\"NLP pre-processing\"></a>\n",
    "tokenizing and lemmatize the text rows"
   ]
  },
  {
   "cell_type": "code",
   "execution_count": 18,
   "metadata": {},
   "outputs": [],
   "source": [
    "from utils.TextProcessingSuite import *"
   ]
  },
  {
   "cell_type": "code",
   "execution_count": 19,
   "metadata": {},
   "outputs": [],
   "source": [
    "# Tokenizing documents\n",
    "df_raw['post'] = df_raw['post'].apply(tokenize)"
   ]
  },
  {
   "cell_type": "code",
   "execution_count": 20,
   "metadata": {},
   "outputs": [],
   "source": [
    "# remove stopwords from documents\n",
    "df_raw['tokens'] = df_raw['post'].apply(remove_stopwords)\n",
    "df_raw['tokens'] = df_raw['post']"
   ]
  },
  {
   "cell_type": "code",
   "execution_count": 21,
   "metadata": {},
   "outputs": [],
   "source": [
    "# lemmatizing documents\n",
    "df_raw['lemma'] = df_raw['tokens'].apply(lemmatize)"
   ]
  },
  {
   "cell_type": "code",
   "execution_count": 22,
   "metadata": {},
   "outputs": [],
   "source": [
    "# remove extra spaces between tokens that may be left after the lemmatization process\n",
    "df_raw['lemma'] = df_raw['lemma'].str.strip()\n",
    "df_raw['lemma'] = df_raw['lemma'].str.replace(r'\\s+', ' ', regex=True)"
   ]
  },
  {
   "cell_type": "code",
   "execution_count": 23,
   "metadata": {},
   "outputs": [
    {
     "name": "stdout",
     "output_type": "stream",
     "text": [
      "--------------------------------------------------------------------------------\n",
      "    social                                               post     class\n",
      "0  twitter  andar con minas no   pelotudo   pagarlas con g...  negativo\n",
      "2  twitter  pq minas tem produzido tanta merda na politica...  negativo\n",
      "3  twitter  mesmo em calamidade financeira   governo de mg...  negativo\n",
      "4  twitter   provavelmente e mano   muda de estado pra estado  negativo\n",
      "5  twitter                              a formula do fracasso  negativo\n",
      "--------------------------------------------------------------------------------\n",
      "social    0\n",
      "post      0\n",
      "class     0\n",
      "tokens    0\n",
      "lemma     0\n",
      "dtype: int64\n",
      "--------------------------------------------------------------------------------\n"
     ]
    }
   ],
   "source": [
    "# Asserting that no NA left after pre-processing the data\n",
    "df_raw = df_raw[df_raw['lemma'] != '']\n",
    "print(80*'-')\n",
    "print(df_raw[['social', 'post', 'class']].head())\n",
    "print(80*'-')\n",
    "print(df_raw.isnull().sum())\n",
    "print(80*'-')"
   ]
  },
  {
   "cell_type": "code",
   "execution_count": 24,
   "metadata": {},
   "outputs": [],
   "source": [
    "# update post column with the lemma document\n",
    "df_raw['post'] = df_raw['lemma']"
   ]
  },
  {
   "cell_type": "code",
   "execution_count": 25,
   "metadata": {},
   "outputs": [
    {
     "data": {
      "text/html": [
       "<div>\n",
       "<style scoped>\n",
       "    .dataframe tbody tr th:only-of-type {\n",
       "        vertical-align: middle;\n",
       "    }\n",
       "\n",
       "    .dataframe tbody tr th {\n",
       "        vertical-align: top;\n",
       "    }\n",
       "\n",
       "    .dataframe thead th {\n",
       "        text-align: right;\n",
       "    }\n",
       "</style>\n",
       "<table border=\"1\" class=\"dataframe\">\n",
       "  <thead>\n",
       "    <tr style=\"text-align: right;\">\n",
       "      <th></th>\n",
       "      <th>social</th>\n",
       "      <th>post</th>\n",
       "      <th>class</th>\n",
       "    </tr>\n",
       "  </thead>\n",
       "  <tbody>\n",
       "    <tr>\n",
       "      <th>0</th>\n",
       "      <td>twitter</td>\n",
       "      <td>andar con mina em o pelotudo pagarla con guita...</td>\n",
       "      <td>negativo</td>\n",
       "    </tr>\n",
       "    <tr>\n",
       "      <th>1</th>\n",
       "      <td>twitter</td>\n",
       "      <td>pq mina ter produzir tanto merda em o politica...</td>\n",
       "      <td>negativo</td>\n",
       "    </tr>\n",
       "    <tr>\n",
       "      <th>2</th>\n",
       "      <td>twitter</td>\n",
       "      <td>mesmo em calamidade financeiro governo de mg c...</td>\n",
       "      <td>negativo</td>\n",
       "    </tr>\n",
       "    <tr>\n",
       "      <th>3</th>\n",
       "      <td>twitter</td>\n",
       "      <td>provavelmente e mano mudar de estado pra estado</td>\n",
       "      <td>negativo</td>\n",
       "    </tr>\n",
       "    <tr>\n",
       "      <th>4</th>\n",
       "      <td>twitter</td>\n",
       "      <td>o formula de o fracasso</td>\n",
       "      <td>negativo</td>\n",
       "    </tr>\n",
       "    <tr>\n",
       "      <th>...</th>\n",
       "      <td>...</td>\n",
       "      <td>...</td>\n",
       "      <td>...</td>\n",
       "    </tr>\n",
       "    <tr>\n",
       "      <th>287544</th>\n",
       "      <td>facebook</td>\n",
       "      <td>ir te enviar o foto de o etiqueta e de o nota ...</td>\n",
       "      <td>neutro</td>\n",
       "    </tr>\n",
       "    <tr>\n",
       "      <th>287545</th>\n",
       "      <td>instagram</td>\n",
       "      <td>ver o larissa Manoela fazer post zuar o filtro...</td>\n",
       "      <td>positivo</td>\n",
       "    </tr>\n",
       "    <tr>\n",
       "      <th>287546</th>\n",
       "      <td>instagram</td>\n",
       "      <td>prezar estar abrir o perfil de o vovo izaura d...</td>\n",
       "      <td>neutro</td>\n",
       "    </tr>\n",
       "    <tr>\n",
       "      <th>287547</th>\n",
       "      <td>instagram</td>\n",
       "      <td>bblend duvidar com o fim de o loja em o shoppi...</td>\n",
       "      <td>neutro</td>\n",
       "    </tr>\n",
       "    <tr>\n",
       "      <th>287548</th>\n",
       "      <td>facebook</td>\n",
       "      <td>deus ti abencoe</td>\n",
       "      <td>neutro</td>\n",
       "    </tr>\n",
       "  </tbody>\n",
       "</table>\n",
       "<p>287549 rows × 3 columns</p>\n",
       "</div>"
      ],
      "text/plain": [
       "           social                                               post     class\n",
       "0         twitter  andar con mina em o pelotudo pagarla con guita...  negativo\n",
       "1         twitter  pq mina ter produzir tanto merda em o politica...  negativo\n",
       "2         twitter  mesmo em calamidade financeiro governo de mg c...  negativo\n",
       "3         twitter    provavelmente e mano mudar de estado pra estado  negativo\n",
       "4         twitter                            o formula de o fracasso  negativo\n",
       "...           ...                                                ...       ...\n",
       "287544   facebook  ir te enviar o foto de o etiqueta e de o nota ...    neutro\n",
       "287545  instagram  ver o larissa Manoela fazer post zuar o filtro...  positivo\n",
       "287546  instagram  prezar estar abrir o perfil de o vovo izaura d...    neutro\n",
       "287547  instagram  bblend duvidar com o fim de o loja em o shoppi...    neutro\n",
       "287548   facebook                                    deus ti abencoe    neutro\n",
       "\n",
       "[287549 rows x 3 columns]"
      ]
     },
     "execution_count": 25,
     "metadata": {},
     "output_type": "execute_result"
    }
   ],
   "source": [
    "# update dataframe wiht the columns social, post and class\n",
    "df_pre_processed = df_raw[['social', 'post', 'class']]\n",
    "# reset indexes\n",
    "df_pre_processed = df_pre_processed.reset_index(drop=True)\n",
    "df_pre_processed"
   ]
  },
  {
   "cell_type": "code",
   "execution_count": 26,
   "metadata": {},
   "outputs": [
    {
     "name": "stdout",
     "output_type": "stream",
     "text": [
      "<class 'pandas.core.frame.DataFrame'>\n",
      "Index: 237456 entries, 0 to 287548\n",
      "Data columns (total 3 columns):\n",
      " #   Column  Non-Null Count   Dtype \n",
      "---  ------  --------------   ----- \n",
      " 0   social  237456 non-null  object\n",
      " 1   post    237456 non-null  object\n",
      " 2   class   237456 non-null  object\n",
      "dtypes: object(3)\n",
      "memory usage: 7.2+ MB\n",
      "---  ------  --------------  -----\n",
      "50093 documents were removed \n",
      "---  ------  --------------  -----\n"
     ]
    }
   ],
   "source": [
    "# Remove post that have less then 10 tokens (optinal)\n",
    "df_filtered = df_pre_processed[df_pre_processed['post'].str.split().str.len() >= 2]\n",
    "df_filtered.info()\n",
    "print('---  ------  --------------  -----')\n",
    "print(f'{len(df_pre_processed) - len(df_filtered)} documents were removed ')\n",
    "print('---  ------  --------------  -----')"
   ]
  },
  {
   "cell_type": "code",
   "execution_count": 27,
   "metadata": {},
   "outputs": [
    {
     "name": "stdout",
     "output_type": "stream",
     "text": [
      "<class 'pandas.core.frame.DataFrame'>\n",
      "Index: 237456 entries, 0 to 287548\n",
      "Data columns (total 3 columns):\n",
      " #   Column  Non-Null Count   Dtype \n",
      "---  ------  --------------   ----- \n",
      " 0   social  237456 non-null  object\n",
      " 1   post    237456 non-null  object\n",
      " 2   class   237456 non-null  object\n",
      "dtypes: object(3)\n",
      "memory usage: 7.2+ MB\n",
      "---  ------  --------------  -----\n",
      "98145 documents were removed \n",
      "---  ------  --------------  -----\n"
     ]
    }
   ],
   "source": [
    "# Remove class neutro observations\n",
    "df_filtered_class = df_filtered[df_filtered['class'] != 'neutro']\n",
    "df_filtered.info()\n",
    "print('---  ------  --------------  -----')\n",
    "print(f'{len(df_filtered) - len(df_filtered_class)} documents were removed ')\n",
    "print('---  ------  --------------  -----')"
   ]
  },
  {
   "cell_type": "code",
   "execution_count": 28,
   "metadata": {},
   "outputs": [],
   "source": [
    "df_filtered = df_filtered_class"
   ]
  },
  {
   "cell_type": "code",
   "execution_count": 29,
   "metadata": {},
   "outputs": [],
   "source": [
    "# serializing whole dataframe in order to be imported latter as a corpus\n",
    "df_filtered.to_pickle('./data/cache_df.pkl')"
   ]
  },
  {
   "cell_type": "code",
   "execution_count": 4,
   "metadata": {},
   "outputs": [
    {
     "data": {
      "text/html": [
       "<div>\n",
       "<style scoped>\n",
       "    .dataframe tbody tr th:only-of-type {\n",
       "        vertical-align: middle;\n",
       "    }\n",
       "\n",
       "    .dataframe tbody tr th {\n",
       "        vertical-align: top;\n",
       "    }\n",
       "\n",
       "    .dataframe thead th {\n",
       "        text-align: right;\n",
       "    }\n",
       "</style>\n",
       "<table border=\"1\" class=\"dataframe\">\n",
       "  <thead>\n",
       "    <tr style=\"text-align: right;\">\n",
       "      <th></th>\n",
       "      <th>social</th>\n",
       "      <th>post</th>\n",
       "      <th>class</th>\n",
       "    </tr>\n",
       "  </thead>\n",
       "  <tbody>\n",
       "    <tr>\n",
       "      <th>0</th>\n",
       "      <td>twitter</td>\n",
       "      <td>andar con mina em o pelotudo pagarla con guita...</td>\n",
       "      <td>negativo</td>\n",
       "    </tr>\n",
       "    <tr>\n",
       "      <th>1</th>\n",
       "      <td>twitter</td>\n",
       "      <td>pq mina ter produzir tanto merda em o politica...</td>\n",
       "      <td>negativo</td>\n",
       "    </tr>\n",
       "    <tr>\n",
       "      <th>2</th>\n",
       "      <td>twitter</td>\n",
       "      <td>mesmo em calamidade financeiro governo de mg c...</td>\n",
       "      <td>negativo</td>\n",
       "    </tr>\n",
       "    <tr>\n",
       "      <th>3</th>\n",
       "      <td>twitter</td>\n",
       "      <td>provavelmente e mano mudar de estado pra estado</td>\n",
       "      <td>negativo</td>\n",
       "    </tr>\n",
       "    <tr>\n",
       "      <th>4</th>\n",
       "      <td>twitter</td>\n",
       "      <td>o formula de o fracasso</td>\n",
       "      <td>negativo</td>\n",
       "    </tr>\n",
       "    <tr>\n",
       "      <th>...</th>\n",
       "      <td>...</td>\n",
       "      <td>...</td>\n",
       "      <td>...</td>\n",
       "    </tr>\n",
       "    <tr>\n",
       "      <th>287535</th>\n",
       "      <td>facebook</td>\n",
       "      <td>bom tarde tudo bem estar entrar em contato ref...</td>\n",
       "      <td>negativo</td>\n",
       "    </tr>\n",
       "    <tr>\n",
       "      <th>287537</th>\n",
       "      <td>facebook</td>\n",
       "      <td>vir tudo certinho porem ficar faltar caixa de ...</td>\n",
       "      <td>negativo</td>\n",
       "    </tr>\n",
       "    <tr>\n",
       "      <th>287539</th>\n",
       "      <td>instagram</td>\n",
       "      <td>tudo bem tbm</td>\n",
       "      <td>positivo</td>\n",
       "    </tr>\n",
       "    <tr>\n",
       "      <th>287541</th>\n",
       "      <td>instagram</td>\n",
       "      <td>ola tudo bem para qual e Mail voce mandar so p...</td>\n",
       "      <td>positivo</td>\n",
       "    </tr>\n",
       "    <tr>\n",
       "      <th>287545</th>\n",
       "      <td>instagram</td>\n",
       "      <td>ver o larissa Manoela fazer post zuar o filtro...</td>\n",
       "      <td>positivo</td>\n",
       "    </tr>\n",
       "  </tbody>\n",
       "</table>\n",
       "<p>139311 rows × 3 columns</p>\n",
       "</div>"
      ],
      "text/plain": [
       "           social                                               post     class\n",
       "0         twitter  andar con mina em o pelotudo pagarla con guita...  negativo\n",
       "1         twitter  pq mina ter produzir tanto merda em o politica...  negativo\n",
       "2         twitter  mesmo em calamidade financeiro governo de mg c...  negativo\n",
       "3         twitter    provavelmente e mano mudar de estado pra estado  negativo\n",
       "4         twitter                            o formula de o fracasso  negativo\n",
       "...           ...                                                ...       ...\n",
       "287535   facebook  bom tarde tudo bem estar entrar em contato ref...  negativo\n",
       "287537   facebook  vir tudo certinho porem ficar faltar caixa de ...  negativo\n",
       "287539  instagram                                       tudo bem tbm  positivo\n",
       "287541  instagram  ola tudo bem para qual e Mail voce mandar so p...  positivo\n",
       "287545  instagram  ver o larissa Manoela fazer post zuar o filtro...  positivo\n",
       "\n",
       "[139311 rows x 3 columns]"
      ]
     },
     "execution_count": 4,
     "metadata": {},
     "output_type": "execute_result"
    }
   ],
   "source": [
    "social_media_df = pd.read_pickle('./data/cache_df.pkl')\n",
    "social_media_df"
   ]
  },
  {
   "cell_type": "markdown",
   "metadata": {},
   "source": [
    "***"
   ]
  },
  {
   "cell_type": "markdown",
   "metadata": {},
   "source": [
    "# 4. Stage Four - Modelling <a class=\"anchor\" id=\"Modelling\"></a>\n",
    "After extracting the features, the proposed ML models were applied to the database using the cross-validation technique where k was set to 10 and the cutoff to 50%. The goal was to ensure that the best-performing model could be selected for production or as a proof of concept. After the first round of training and testing, we observed, through Table 5, an acceptable performance considering the complexity of the problem and the sparsity of the database after extracting its characteristics. This takes into account the use of the default hyperparameters of the \"scikit-learn\" library.\n"
   ]
  },
  {
   "cell_type": "markdown",
   "metadata": {},
   "source": [
    "![](assets/4.JPG)"
   ]
  },
  {
   "cell_type": "markdown",
   "metadata": {},
   "source": [
    "## 4.1. Modelling technique <a class=\"anchor\" id=\"ModellingTechnique\"></a>\n"
   ]
  },
  {
   "cell_type": "markdown",
   "metadata": {},
   "source": [
    "### Modeling a Sentiment classifier using Four linear Models\n",
    "For the proposed problem, 4 classifiers were chosen: Naive Bayes, Logistic Regression, Support Vector Machine (SVM), and Decision Tree."
   ]
  },
  {
   "cell_type": "code",
   "execution_count": 30,
   "metadata": {},
   "outputs": [],
   "source": [
    "social_media_df = df_filtered"
   ]
  },
  {
   "cell_type": "code",
   "execution_count": 92,
   "metadata": {},
   "outputs": [
    {
     "data": {
      "text/html": [
       "<div>\n",
       "<style scoped>\n",
       "    .dataframe tbody tr th:only-of-type {\n",
       "        vertical-align: middle;\n",
       "    }\n",
       "\n",
       "    .dataframe tbody tr th {\n",
       "        vertical-align: top;\n",
       "    }\n",
       "\n",
       "    .dataframe thead th {\n",
       "        text-align: right;\n",
       "    }\n",
       "</style>\n",
       "<table border=\"1\" class=\"dataframe\">\n",
       "  <thead>\n",
       "    <tr style=\"text-align: right;\">\n",
       "      <th></th>\n",
       "      <th>social</th>\n",
       "      <th>post</th>\n",
       "      <th>class</th>\n",
       "    </tr>\n",
       "  </thead>\n",
       "  <tbody>\n",
       "    <tr>\n",
       "      <th>0</th>\n",
       "      <td>twitter</td>\n",
       "      <td>andar con mina em o pelotudo pagarla con guita...</td>\n",
       "      <td>negativo</td>\n",
       "    </tr>\n",
       "    <tr>\n",
       "      <th>1</th>\n",
       "      <td>twitter</td>\n",
       "      <td>pq mina ter produzir tanto merda em o politica...</td>\n",
       "      <td>negativo</td>\n",
       "    </tr>\n",
       "    <tr>\n",
       "      <th>2</th>\n",
       "      <td>twitter</td>\n",
       "      <td>mesmo em calamidade financeiro governo de mg c...</td>\n",
       "      <td>negativo</td>\n",
       "    </tr>\n",
       "    <tr>\n",
       "      <th>3</th>\n",
       "      <td>twitter</td>\n",
       "      <td>provavelmente e mano mudar de estado pra estado</td>\n",
       "      <td>negativo</td>\n",
       "    </tr>\n",
       "    <tr>\n",
       "      <th>4</th>\n",
       "      <td>twitter</td>\n",
       "      <td>o formula de o fracasso</td>\n",
       "      <td>negativo</td>\n",
       "    </tr>\n",
       "  </tbody>\n",
       "</table>\n",
       "</div>"
      ],
      "text/plain": [
       "    social                                               post     class\n",
       "0  twitter  andar con mina em o pelotudo pagarla con guita...  negativo\n",
       "1  twitter  pq mina ter produzir tanto merda em o politica...  negativo\n",
       "2  twitter  mesmo em calamidade financeiro governo de mg c...  negativo\n",
       "3  twitter    provavelmente e mano mudar de estado pra estado  negativo\n",
       "4  twitter                            o formula de o fracasso  negativo"
      ]
     },
     "execution_count": 92,
     "metadata": {},
     "output_type": "execute_result"
    }
   ],
   "source": [
    "social_media_df = social_media_df.replace({'class': {1:'positivo', \n",
    "                                    0:'negativo'}})\n",
    "social_media_df.head()"
   ]
  },
  {
   "cell_type": "markdown",
   "metadata": {},
   "source": [
    "### Feature extraction\n",
    "Machine learning models can't handle unstructured data like plain text. Therefore, it was necessary to transform this unstructured data format into something more meaningful. There are several techniques available for this purpose, but in the context of the proposed problem, the technique known as TF-IDF (Term Frequency-Inverse Document Frequency) was used. This approach transformed the collection of documents into a word vector, where the frequency of each word in a document (TF) and its rarity in the entire set of documents (IDF) is considered before defining the value for each observation. Words that are frequent in a document but rare in the overall corpus received higher weights (Ahuja et al., 2019), resulting in a sparse matrix containing 32,734 features extracted from 139,311 observations."
   ]
  },
  {
   "cell_type": "code",
   "execution_count": 5,
   "metadata": {},
   "outputs": [
    {
     "data": {
      "image/png": "[encoded data removed]",
      "text/plain": [
       "<Figure size 640x480 with 1 Axes>"
      ]
     },
     "metadata": {},
     "output_type": "display_data"
    },
    {
     "data": {
      "text/plain": [
       "social\n",
       "instagram    55787\n",
       "facebook     52146\n",
       "twitter      31378\n",
       "Name: count, dtype: int64"
      ]
     },
     "execution_count": 5,
     "metadata": {},
     "output_type": "execute_result"
    }
   ],
   "source": [
    "plt.hist(social_media_df[\"social\"])\n",
    "plt.show()\n",
    "social_media_df['social'].value_counts()"
   ]
  },
  {
   "cell_type": "code",
   "execution_count": 6,
   "metadata": {},
   "outputs": [],
   "source": [
    "from utils.FeatureExtraction import bag_of_words, tf_idf"
   ]
  },
  {
   "cell_type": "code",
   "execution_count": 7,
   "metadata": {},
   "outputs": [
    {
     "data": {
      "text/plain": [
       "(139311, 3)"
      ]
     },
     "execution_count": 7,
     "metadata": {},
     "output_type": "execute_result"
    }
   ],
   "source": [
    "social_media_df.shape"
   ]
  },
  {
   "cell_type": "code",
   "execution_count": 8,
   "metadata": {},
   "outputs": [],
   "source": [
    "social_media_df = social_media_df.reset_index(drop=True)"
   ]
  },
  {
   "cell_type": "code",
   "execution_count": 9,
   "metadata": {},
   "outputs": [
    {
     "data": {
      "image/png": "[encoded data removed]",
      "text/plain": [
       "<Figure size 640x480 with 1 Axes>"
      ]
     },
     "metadata": {},
     "output_type": "display_data"
    }
   ],
   "source": [
    "# make sure to reset index after some rows dropped\n",
    "# social_media_df = social_media_df.reset_index(drop=True)\n",
    "social_media_df['class'].value_counts()\n",
    "\n",
    "# relative frequence of each sentiment class\n",
    "from utils.DonutsPloter import donuts_plot\n",
    "class_counts = social_media_df['class'].value_counts()\n",
    "total_classes = len(social_media_df['class'])\n",
    "\n",
    "# # Calculate the percentages\n",
    "percentages = [count / total_classes * 100 for count in class_counts]\n",
    "\n",
    "# generate a donuts plot\n",
    "donuts_plot(percentages, class_counts)"
   ]
  },
  {
   "cell_type": "code",
   "execution_count": 10,
   "metadata": {},
   "outputs": [
    {
     "data": {
      "image/png": "[encoded data removed]",
      "text/plain": [
       "<Figure size 640x480 with 1 Axes>"
      ]
     },
     "metadata": {},
     "output_type": "display_data"
    },
    {
     "name": "stdout",
     "output_type": "stream",
     "text": [
      "class\n",
      "positivo    76033\n",
      "negativo    63278\n",
      "Name: count, dtype: int64\n"
     ]
    }
   ],
   "source": [
    "plt.bar(class_counts.index, class_counts)\n",
    "\n",
    "# Add labels and title\n",
    "plt.ylabel('Count of Values')\n",
    "plt.title('Proportion of the values counts')\n",
    "\n",
    "# Show the plot\n",
    "plt.show()\n",
    "print(class_counts)"
   ]
  },
  {
   "cell_type": "code",
   "execution_count": 11,
   "metadata": {},
   "outputs": [
    {
     "data": {
      "text/html": [
       "<div>\n",
       "<style scoped>\n",
       "    .dataframe tbody tr th:only-of-type {\n",
       "        vertical-align: middle;\n",
       "    }\n",
       "\n",
       "    .dataframe tbody tr th {\n",
       "        vertical-align: top;\n",
       "    }\n",
       "\n",
       "    .dataframe thead th {\n",
       "        text-align: right;\n",
       "    }\n",
       "</style>\n",
       "<table border=\"1\" class=\"dataframe\">\n",
       "  <thead>\n",
       "    <tr style=\"text-align: right;\">\n",
       "      <th></th>\n",
       "      <th>social</th>\n",
       "      <th>post</th>\n",
       "      <th>class</th>\n",
       "    </tr>\n",
       "  </thead>\n",
       "  <tbody>\n",
       "    <tr>\n",
       "      <th>0</th>\n",
       "      <td>twitter</td>\n",
       "      <td>andar con mina em o pelotudo pagarla con guita...</td>\n",
       "      <td>negativo</td>\n",
       "    </tr>\n",
       "    <tr>\n",
       "      <th>1</th>\n",
       "      <td>twitter</td>\n",
       "      <td>pq mina ter produzir tanto merda em o politica...</td>\n",
       "      <td>negativo</td>\n",
       "    </tr>\n",
       "    <tr>\n",
       "      <th>2</th>\n",
       "      <td>twitter</td>\n",
       "      <td>mesmo em calamidade financeiro governo de mg c...</td>\n",
       "      <td>negativo</td>\n",
       "    </tr>\n",
       "    <tr>\n",
       "      <th>3</th>\n",
       "      <td>twitter</td>\n",
       "      <td>provavelmente e mano mudar de estado pra estado</td>\n",
       "      <td>negativo</td>\n",
       "    </tr>\n",
       "    <tr>\n",
       "      <th>4</th>\n",
       "      <td>twitter</td>\n",
       "      <td>o formula de o fracasso</td>\n",
       "      <td>negativo</td>\n",
       "    </tr>\n",
       "    <tr>\n",
       "      <th>...</th>\n",
       "      <td>...</td>\n",
       "      <td>...</td>\n",
       "      <td>...</td>\n",
       "    </tr>\n",
       "    <tr>\n",
       "      <th>139306</th>\n",
       "      <td>facebook</td>\n",
       "      <td>bom tarde tudo bem estar entrar em contato ref...</td>\n",
       "      <td>negativo</td>\n",
       "    </tr>\n",
       "    <tr>\n",
       "      <th>139307</th>\n",
       "      <td>facebook</td>\n",
       "      <td>vir tudo certinho porem ficar faltar caixa de ...</td>\n",
       "      <td>negativo</td>\n",
       "    </tr>\n",
       "    <tr>\n",
       "      <th>139308</th>\n",
       "      <td>instagram</td>\n",
       "      <td>tudo bem tbm</td>\n",
       "      <td>positivo</td>\n",
       "    </tr>\n",
       "    <tr>\n",
       "      <th>139309</th>\n",
       "      <td>instagram</td>\n",
       "      <td>ola tudo bem para qual e Mail voce mandar so p...</td>\n",
       "      <td>positivo</td>\n",
       "    </tr>\n",
       "    <tr>\n",
       "      <th>139310</th>\n",
       "      <td>instagram</td>\n",
       "      <td>ver o larissa Manoela fazer post zuar o filtro...</td>\n",
       "      <td>positivo</td>\n",
       "    </tr>\n",
       "  </tbody>\n",
       "</table>\n",
       "<p>139311 rows × 3 columns</p>\n",
       "</div>"
      ],
      "text/plain": [
       "           social                                               post     class\n",
       "0         twitter  andar con mina em o pelotudo pagarla con guita...  negativo\n",
       "1         twitter  pq mina ter produzir tanto merda em o politica...  negativo\n",
       "2         twitter  mesmo em calamidade financeiro governo de mg c...  negativo\n",
       "3         twitter    provavelmente e mano mudar de estado pra estado  negativo\n",
       "4         twitter                            o formula de o fracasso  negativo\n",
       "...           ...                                                ...       ...\n",
       "139306   facebook  bom tarde tudo bem estar entrar em contato ref...  negativo\n",
       "139307   facebook  vir tudo certinho porem ficar faltar caixa de ...  negativo\n",
       "139308  instagram                                       tudo bem tbm  positivo\n",
       "139309  instagram  ola tudo bem para qual e Mail voce mandar so p...  positivo\n",
       "139310  instagram  ver o larissa Manoela fazer post zuar o filtro...  positivo\n",
       "\n",
       "[139311 rows x 3 columns]"
      ]
     },
     "execution_count": 11,
     "metadata": {},
     "output_type": "execute_result"
    }
   ],
   "source": [
    "social_media_df"
   ]
  },
  {
   "cell_type": "code",
   "execution_count": 12,
   "metadata": {},
   "outputs": [],
   "source": [
    "# define datafrmae corpus\n",
    "corpus = social_media_df['post']"
   ]
  },
  {
   "cell_type": "code",
   "execution_count": 13,
   "metadata": {},
   "outputs": [],
   "source": [
    "# feature extraction Using Bag of Words\n",
    "# from utils.console_printing import _printing\n",
    "# BoW_corpus, BoW_feature_names, BoF_df_corpus = bag_of_words(corpus)\n",
    "# _printing('Bag of Words Shape', BoW_corpus.shape)\n",
    "# _printing('Features Extracted', BoW_feature_names)"
   ]
  },
  {
   "cell_type": "code",
   "execution_count": 14,
   "metadata": {},
   "outputs": [
    {
     "name": "stdout",
     "output_type": "stream",
     "text": [
      "======================================================================\n",
      "                             Tf Idf Shape                             \n",
      "======================================================================\n",
      "(139311, 32734)\n",
      "======================================================================\n",
      "======================================================================\n",
      "                          Features extracted                          \n",
      "======================================================================\n",
      "['2e' 'aa' 'aaff' ... 'zulu' 'zurique' 'zz']\n",
      "======================================================================\n"
     ]
    }
   ],
   "source": [
    "# feature extraction Using erm Frequency-Inverse Document Frequency\n",
    "TFIDF_corpus, TFIDF_features, TFIDF_df_corpus = tf_idf(corpus)\n",
    "from utils.ConsolePrinting import _printing\n",
    "_printing('Tf Idf Shape', TFIDF_df_corpus.shape)\n",
    "_printing('Features extracted', TFIDF_features)"
   ]
  },
  {
   "cell_type": "markdown",
   "metadata": {},
   "source": [
    "### Modeling a base classifiers\n",
    "After extracting the features, the proposed ML models were applied to the database using the cross-validation technique where k was set to 10 and the cutoff to 50%. The goal was to ensure that the best-performing model could be selected for production or as a proof of concept. After the first round of training and testing, we observed, through Table 5, an acceptable performance considering the complexity of the problem and the sparsity of the database after extracting its characteristics. This takes into account the use of the default hyperparameters of the \"scikit-learn\" library."
   ]
  },
  {
   "cell_type": "markdown",
   "metadata": {},
   "source": [
    "#### Base Models"
   ]
  },
  {
   "cell_type": "code",
   "execution_count": 18,
   "metadata": {},
   "outputs": [
    {
     "name": "stdout",
     "output_type": "stream",
     "text": [
      "====================================================================================================\n",
      "----------------------------------------------------------------------------------------------------\n",
      " Cross validating: LogisticRegression Classifier with the following hyperparameters:\n",
      "{'C': 1.0, 'class_weight': None, 'dual': False, 'fit_intercept': True, 'intercept_scaling': 1, 'l1_ratio': None, 'max_iter': 100, 'multi_class': 'auto', 'n_jobs': None, 'penalty': 'l2', 'random_state': None, 'solver': 'lbfgs', 'tol': 0.0001, 'verbose': 0, 'warm_start': False}\n",
      "----------------------------------------------------------------------------------------------------\n",
      " Cross validating: MultinomialNB Classifier with the following hyperparameters:\n",
      "{'alpha': 1.0, 'class_prior': None, 'fit_prior': True, 'force_alpha': 'warn'}\n",
      "----------------------------------------------------------------------------------------------------\n",
      " Cross validating: LinearSVC Classifier with the following hyperparameters:\n",
      "{'C': 1.0, 'class_weight': None, 'dual': 'warn', 'fit_intercept': True, 'intercept_scaling': 1, 'loss': 'squared_hinge', 'max_iter': 1000, 'multi_class': 'ovr', 'penalty': 'l2', 'random_state': None, 'tol': 0.0001, 'verbose': 0}\n",
      "----------------------------------------------------------------------------------------------------\n",
      " Cross validating: DecisionTreeClassifier Classifier with the following hyperparameters:\n",
      "{'ccp_alpha': 0.0, 'class_weight': None, 'criterion': 'gini', 'max_depth': 5, 'max_features': None, 'max_leaf_nodes': None, 'min_impurity_decrease': 0.0, 'min_samples_leaf': 1, 'min_samples_split': 2, 'min_weight_fraction_leaf': 0.0, 'random_state': None, 'splitter': 'best'}\n",
      "======================================================================\n",
      "                        Classification Report                        \n",
      "======================================================================\n",
      "                    Model  Accuracy  Precision    Recall  F1-score\n",
      "0      LogisticRegression  0.876063   0.879515  0.872025  0.871944\n",
      "1           MultinomialNB  0.854600   0.854917  0.855291  0.852966\n",
      "2               LinearSVC  0.884095   0.886069  0.881154  0.881486\n",
      "3  DecisionTreeClassifier  0.737373   0.755496  0.722019  0.719855\n",
      "======================================================================\n"
     ]
    }
   ],
   "source": [
    "# Importe and Define Models \n",
    "from utils.Classifiers import models, hyper_params\n",
    "from utils.TrainerEvaluator import evaluate_multiple_models, cross_validate_multiple_models\n",
    "from utils.ConsolePrinting import _printing\n",
    "\n",
    "classification_results = cross_validate_multiple_models((TFIDF_corpus, social_media_df['class']), models, {})\n",
    "_printing('Classification Report', classification_results)"
   ]
  },
  {
   "cell_type": "code",
   "execution_count": null,
   "metadata": {},
   "outputs": [],
   "source": [
    "# Call the function for each model and plot ROC curve\n",
    "for model in metrics:\n",
    "    plot_roc_curve(model[\"ROC AUC\"][\"fpr\"], model[\"ROC AUC\"][\"tpr\"], model[\"Model\"])"
   ]
  },
  {
   "cell_type": "markdown",
   "metadata": {},
   "source": [
    "### Modeling a base classifier after selecting the best features using a VarianceThreshold\n",
    "Textual databases tend to be sparse, meaning an excessive number of features have zero values for most instances. Many words or terms may be redundant or not very informative for the task of sentiment classification. These data typically have many features (or attributes), such as keywords, term frequency, text length, and other information. Machine learning models can become overly complex when trained on high-dimensional databases, which can lead to overfitting, where the model becomes too tailored to the training data and does not generalize well to new data."
   ]
  },
  {
   "cell_type": "markdown",
   "metadata": {},
   "source": [
    "#### Feature selection\n",
    "Reducing the dimensionality of our database can help avoid this problem and provide better model performance. It helps to avoid overfitting and makes training more efficient. When dealing with a very sparse database, we end up exposing our model to excessive and perhaps irrelevant information for problem-solving. To reduce our database and select the best features, we used the \"SelectKBest\" method from the \"scikit-learn\" library, which applies the univariate feature selection technique. The univariate selection evaluates the relationship between independent variables and a dependent variable. It identifies the most influential features through statistical tests, such as the chi-square test for categorical variables. This is a popular approach capable of selecting the best features based on the scores generated after all the tests."
   ]
  },
  {
   "cell_type": "code",
   "execution_count": 78,
   "metadata": {},
   "outputs": [],
   "source": [
    "from utils.FeatureSelection import univariate_feature_selection\n",
    "from sklearn.feature_extraction.text import CountVectorizer, TfidfVectorizer\n",
    "\n",
    "X_Selected_features, X_selected_f_df, feature_names = univariate_feature_selection(TFIDF_df_corpus, social_media_df['class'], 70)"
   ]
  },
  {
   "cell_type": "code",
   "execution_count": 79,
   "metadata": {},
   "outputs": [
    {
     "data": {
      "text/plain": [
       "32734"
      ]
     },
     "execution_count": 79,
     "metadata": {},
     "output_type": "execute_result"
    }
   ],
   "source": [
    "TFIDF_df_corpus.shape[1]"
   ]
  },
  {
   "cell_type": "code",
   "execution_count": 80,
   "metadata": {},
   "outputs": [
    {
     "data": {
      "text/plain": [
       "22913"
      ]
     },
     "execution_count": 80,
     "metadata": {},
     "output_type": "execute_result"
    }
   ],
   "source": [
    "X_Selected_features.shape[1]"
   ]
  },
  {
   "cell_type": "code",
   "execution_count": 81,
   "metadata": {},
   "outputs": [
    {
     "name": "stdout",
     "output_type": "stream",
     "text": [
      "====================================================================================================\n",
      "----------------------------------------------------------------------------------------------------\n",
      " Cross validating: LogisticRegression Classifier with the following hyperparameters:\n",
      "{'C': 1.0, 'class_weight': None, 'dual': False, 'fit_intercept': True, 'intercept_scaling': 1, 'l1_ratio': None, 'max_iter': 100, 'multi_class': 'auto', 'n_jobs': None, 'penalty': 'l2', 'random_state': None, 'solver': 'lbfgs', 'tol': 0.0001, 'verbose': 0, 'warm_start': False}\n",
      "----------------------------------------------------------------------------------------------------\n",
      " Cross validating: MultinomialNB Classifier with the following hyperparameters:\n",
      "{'alpha': 1.0, 'class_prior': None, 'fit_prior': True, 'force_alpha': 'warn'}\n",
      "----------------------------------------------------------------------------------------------------\n",
      " Cross validating: LinearSVC Classifier with the following hyperparameters:\n",
      "{'C': 1.0, 'class_weight': None, 'dual': 'warn', 'fit_intercept': True, 'intercept_scaling': 1, 'loss': 'squared_hinge', 'max_iter': 1000, 'multi_class': 'ovr', 'penalty': 'l2', 'random_state': None, 'tol': 0.0001, 'verbose': 0}\n",
      "----------------------------------------------------------------------------------------------------\n",
      " Cross validating: DecisionTreeClassifier Classifier with the following hyperparameters:\n",
      "{'ccp_alpha': 0.0, 'class_weight': None, 'criterion': 'gini', 'max_depth': 2, 'max_features': None, 'max_leaf_nodes': None, 'min_impurity_decrease': 0.0, 'min_samples_leaf': 1, 'min_samples_split': 2, 'min_weight_fraction_leaf': 0.0, 'random_state': None, 'splitter': 'best'}\n",
      "======================================================================\n",
      "                        Classification Report                        \n",
      "======================================================================\n",
      "                    Model  Accuracy  Precision    Recall  F1-score\n",
      "0      LogisticRegression  0.876472   0.879925  0.872474  0.872380\n",
      "1           MultinomialNB  0.857177   0.857749  0.857586  0.855121\n",
      "2               LinearSVC  0.892271   0.893141  0.889958  0.890673\n",
      "3  DecisionTreeClassifier  0.674657   0.717731  0.651703  0.637960\n",
      "======================================================================\n"
     ]
    }
   ],
   "source": [
    "from utils.Classifiers import models, hyper_params\n",
    "from utils.TrainerEvaluator import evaluate_multiple_models, cross_validate_multiple_models\n",
    "from utils.ConsolePrinting import _printing\n",
    "\n",
    "classification_results = cross_validate_multiple_models((X_Selected_features, social_media_df['class']), models, {})\n",
    "_printing('Classification Report', classification_results)"
   ]
  },
  {
   "cell_type": "markdown",
   "metadata": {},
   "source": [
    "### Tuning model hyperparameters\n",
    "Hyperparameter optimization is an important step in the process of modeling machine learning algorithms. Hyperparameters are external settings that affect the model's performance, such as learning rate, regularization, or penalties, for example. Setting the best values for these parameters can ensure better performance for our classifier."
   ]
  },
  {
   "cell_type": "code",
   "execution_count": 86,
   "metadata": {},
   "outputs": [
    {
     "name": "stdout",
     "output_type": "stream",
     "text": [
      "======================================================================\n",
      "                             Tf Idf Shape                             \n",
      "======================================================================\n",
      "(139311, 32734)\n",
      "======================================================================\n",
      "======================================================================\n",
      "                          Features extracted                          \n",
      "======================================================================\n",
      "['2e' 'aa' 'aaff' ... 'zulu' 'zurique' 'zz']\n",
      "======================================================================\n",
      "Hyper tuning parameters with 139311 observations...\n",
      "----------------------------------------------------------------------------------------------------\n",
      "Tuning: LogisticRegression Classifier with the follow hyperparameters:\n",
      "{'max_iter': [10000], 'class_weight': ['balanced'], 'solver': ['newton-cg', 'lbfgs', 'saga', 'sag'], 'penalty': ['l2'], 'C': [1, 2, 3, 4, 5, 6, 7, 8, 9, 10, 11, 12, 13, 14, 15, 16, 17, 18, 19, 20, 21, 22, 23, 24, 25, 26, 27, 28, 29, 30, 31, 32, 33, 34, 35, 36, 37, 38, 39, 40, 41, 42, 43, 44, 45, 46, 47, 48, 49, 50, 51, 52, 53, 54, 55, 56, 57, 58, 59, 60, 61, 62, 63, 64, 65, 66, 67, 68, 69, 70, 71, 72, 73, 74, 75, 76, 77, 78, 79, 80, 81, 82, 83, 84, 85, 86, 87, 88, 89, 90, 91, 92, 93, 94, 95, 96, 97, 98, 99, 100]}\n",
      "----------------------------------------------------------------------------------------------------\n",
      "----------------------------------------------------------------------------------------------------\n",
      "Tuning: MultinomialNB Classifier with the follow hyperparameters:\n",
      "{'alpha': [1, 2, 3, 4, 5, 6, 7, 8, 9, 10, 11, 12, 13, 14, 15, 16, 17, 18, 19, 20, 21, 22, 23, 24, 25, 26, 27, 28, 29, 30, 31, 32, 33, 34, 35, 36, 37, 38, 39, 40, 41, 42, 43, 44, 45, 46, 47, 48, 49, 50, 51, 52, 53, 54, 55, 56, 57, 58, 59, 60, 61, 62, 63, 64, 65, 66, 67, 68, 69, 70, 71, 72, 73, 74, 75, 76, 77, 78, 79, 80, 81, 82, 83, 84, 85, 86, 87, 88, 89, 90, 91, 92, 93, 94, 95, 96, 97, 98, 99, 100], 'force_alpha': [True], 'fit_prior': [True], 'class_prior': [None]}\n",
      "----------------------------------------------------------------------------------------------------\n",
      "----------------------------------------------------------------------------------------------------\n",
      "Tuning: LinearSVC Classifier with the follow hyperparameters:\n",
      "{'penalty': ['l2'], 'loss': ['hinge', 'squared_hinge'], 'dual': [False], 'C': [1, 2, 3, 4, 5, 6, 7, 8, 9, 10, 11, 12, 13, 14, 15, 16, 17, 18, 19, 20, 21, 22, 23, 24, 25, 26, 27, 28, 29, 30, 31, 32, 33, 34, 35, 36, 37, 38, 39, 40, 41, 42, 43, 44, 45, 46, 47, 48, 49, 50, 51, 52, 53, 54, 55, 56, 57, 58, 59, 60, 61, 62, 63, 64, 65, 66, 67, 68, 69, 70, 71, 72, 73, 74, 75, 76, 77, 78, 79, 80, 81, 82, 83, 84, 85, 86, 87, 88, 89, 90, 91, 92, 93, 94, 95, 96, 97, 98, 99, 100], 'class_weight': ['balanced'], 'max_iter': [10000]}\n",
      "----------------------------------------------------------------------------------------------------\n",
      "----------------------------------------------------------------------------------------------------\n",
      "Tuning: DecisionTreeClassifier Classifier with the follow hyperparameters:\n",
      "{'criterion': ['gini', 'entropy'], 'splitter': ['best', 'random'], 'max_depth': [2, 3, 4, 5, 6, 7, 8, 9, 10, 11, 12, 13, 14, 15, 16, 17, 18, 19, 20, 21, 22, 23, 24, 25, 26, 27, 28, 29, 30, 31, 32, 33, 34, 35, 36, 37, 38, 39, 40, 41, 42, 43, 44, 45, 46, 47, 48, 49, 50], 'min_samples_split': [2, 3, 4, 5, 6, 7, 8, 9, 10, 11, 12, 13, 14, 15, 16, 17, 18, 19, 20], 'min_samples_leaf': [2, 3, 4, 5, 6, 7, 8, 9, 10, 11, 12, 13, 14, 15, 16, 17, 18, 19, 20, 21, 22, 23, 24, 25, 26, 27, 28, 29, 30, 31, 32, 33, 34, 35, 36, 37, 38, 39, 40, 41, 42, 43, 44, 45, 46, 47, 48, 49, 50, 51, 52, 53, 54, 55, 56, 57, 58, 59, 60, 61, 62, 63, 64, 65, 66, 67, 68, 69, 70, 71, 72, 73, 74, 75, 76, 77, 78, 79, 80, 81, 82, 83, 84, 85, 86, 87, 88, 89, 90, 91, 92, 93, 94, 95, 96, 97, 98, 99, 100], 'max_features': ['None', 'sqrt', 'log2']}\n",
      "----------------------------------------------------------------------------------------------------\n"
     ]
    },
    {
     "data": {
      "text/plain": [
       "{'LogisticRegression': {'solver': 'lbfgs',\n",
       "  'penalty': 'l2',\n",
       "  'max_iter': 10000,\n",
       "  'class_weight': 'balanced',\n",
       "  'C': 16},\n",
       " 'MultinomialNB': {'force_alpha': True,\n",
       "  'fit_prior': True,\n",
       "  'class_prior': None,\n",
       "  'alpha': 9},\n",
       " 'LinearSVC': {'penalty': 'l2',\n",
       "  'max_iter': 10000,\n",
       "  'loss': 'squared_hinge',\n",
       "  'dual': False,\n",
       "  'class_weight': 'balanced',\n",
       "  'C': 24},\n",
       " 'DecisionTreeClassifier': {'splitter': 'best',\n",
       "  'min_samples_split': 7,\n",
       "  'min_samples_leaf': 29,\n",
       "  'max_features': 'sqrt',\n",
       "  'max_depth': 19,\n",
       "  'criterion': 'entropy'}}"
      ]
     },
     "execution_count": 86,
     "metadata": {},
     "output_type": "execute_result"
    }
   ],
   "source": [
    "from utils.Classifiers import models, hyper_params\n",
    "from utils.TrainerEvaluator import evaluate_multiple_models, cross_validate_multiple_models\n",
    "from utils.HyperparametersTuning import model_hypertuning\n",
    "from utils.ConsolePrinting import _printing\n",
    "\n",
    "social_media_df_SAMPLE = social_media_df.sample(139311)\n",
    "hyper_corpus = social_media_df_SAMPLE['post']\n",
    "Hyper_TFIDF_corpus, Hyper_TFIDF_features, Hyper_TFIDF_df_corpus = tf_idf(hyper_corpus)\n",
    "\n",
    "_printing('Tf Idf Shape', Hyper_TFIDF_corpus.shape)\n",
    "_printing('Features extracted', Hyper_TFIDF_features)\n",
    "\n",
    "print(f'Hyper tuning parameters with {len(Hyper_TFIDF_df_corpus)} observations...')\n",
    "best_params, grid_results, = model_hypertuning(Hyper_TFIDF_corpus, social_media_df_SAMPLE['class'], models, hyper_params)\n",
    "best_params"
   ]
  },
  {
   "metadata": {},
   "cell_type": "code",
   "outputs": [],
   "execution_count": null,
   "source": [
    "from utils.Classifiers import models\n",
    "from utils.TrainerEvaluator import evaluate_multiple_models, cross_validate_multiple_models\n",
    "from utils.ConsolePrinting import _printing\n",
    "\n",
    "classification_results = cross_validate_multiple_models((X_Selected_features, social_media_df['class']), models, best_params)\n",
    "_printing('Classification Report', classification_results)\n"
   ]
  },
  {
   "metadata": {},
   "cell_type": "code",
   "outputs": [],
   "execution_count": null,
   "source": [
    "from utils.TrainerEvaluator import plot_roc_curve\n",
    "\n",
    "plot_roc_curve((X_Selected_features, social_media_df['class']),  models, best_params)"
   ]
  },
  {
   "metadata": {},
   "cell_type": "markdown",
   "source": ""
  },
  {
   "cell_type": "markdown",
   "metadata": {
    "editable": true,
    "slideshow": {
     "slide_type": ""
    },
    "tags": []
   },
   "source": [
    "## 5.2. Modelling assumptions <a class=\"anchor\" id=\"ModellingAssumptions\"></a>\n",
    "After making the necessary adjustments, a third round of training and testing was carried out, resulting in an accuracy improvement of almost 3% for the Logistic Regression model, as shown in Table 8, which was the best-performing model. Surprisingly, there was a loss in accuracy performance for the remaining models, ranging from 0.5% for the Naive Bayes model to 9.0% for the Decision Tree model, which had the worst performance. These results may indicate that the models with reduced performance could have been overfitting during the initial iterations.\n",
    "\n",
    "The decline in performance for the specified models might be due to an unrepresentative subset of hyperparameters, given that only a few combination possibilities were considered. Additionally, the quality of the response variable's labeling is another factor. If a significant number of observations were mislabeled as positive or negative, the model might not properly adjust during training or parameter tuning, resulting in a performance decrease during generalization attempts.\n",
    "\n",
    "To better assess the quality of the proposed models' fit, their respective ROC curves were generated, as shown in Figure 8. These curves validate that the Logistic Regression model continues to perform the best, achieving an area under the curve of 96%, followed by the SVM, Naive Bayes, and Decision Tree models with 95%, 93%, and 84%, respectively. This corroborates the accuracy results obtained in the last iteration.\n"
   ]
  },
  {
   "cell_type": "markdown",
   "metadata": {},
   "source": [
    "# Evaluation"
   ]
  },
  {
   "cell_type": "markdown",
   "metadata": {},
   "source": [
    "Developing a sentiment classification model in a scenario where the communication style of social media needs to be considered in our study is indeed a great challenge. This is due to the complexity of problems related to NLP and its various available techniques, as well as the excessive amount of noise inherent in textual documents generated on social media. Such unstructured data requires a lot of work and research regarding the choice of preprocessing techniques applied to ensure a robust and representative database for applying the classifiers currently available.\n",
    "\n",
    "This study aimed to train classification models for sentiment analysis using four algorithms: Linear Regression, Naive Bayes, SVM, and Decision Tree. The methodology employed involved integrating these algorithms with feature selection and hyperparameter tuning techniques, aiming to improve the model's generalization capacity in the face of a range of features that compose a sparse feature matrix.\n",
    "\n",
    "The application of ML models for sentiment classification in a scenario where consumers tend to express their opinions related to products and services on social media can become a valuable tool. After classifying these posts, they can be categorized and grouped into categories such as complaint, engagement, safety issue, spam, purchase intention, suggestion, partnership, donation request, question, among others. From this categorization, using additional text mining techniques, it will be possible to measure the impact generated by the company's presence on social media, as well as analyze trends or generate value through targeted support.\n",
    "\n",
    "The developed classification models demonstrated reasonable performance in terms of overall model efficiency (accuracy) and excellent performance regarding their ROC curve, which can be considered satisfactory given the low criticality and needs inherent to the scope of this project. Thus, the Logistic Regression model showed better performance compared to the others, achieving an accuracy of 89.43% and an area under the ROC curve of 96%, corroborating its performance with other metrics such as Precision and F1-score."
   ]
  },
  {
   "cell_type": "markdown",
   "metadata": {},
   "source": [
    "![](assets/5.JPG)"
   ]
  },
  {
   "metadata": {},
   "cell_type": "code",
   "outputs": [],
   "execution_count": null,
   "source": ""
  }
 ],
 "metadata": {
  "kernelspec": {
   "display_name": "Python 3 (ipykernel)",
   "language": "python",
   "name": "python3"
  },
  "language_info": {
   "codemirror_mode": {
    "name": "ipython",
    "version": 3
   },
   "file_extension": ".py",
   "mimetype": "text/x-python",
   "name": "python",
   "nbconvert_exporter": "python",
   "pygments_lexer": "ipython3",
   "version": "3.11.7"
  }
 },
 "nbformat": 4,
 "nbformat_minor": 4
}
